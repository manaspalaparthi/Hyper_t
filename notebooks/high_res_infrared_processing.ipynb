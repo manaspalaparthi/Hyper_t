{
 "cells": [
  {
   "cell_type": "code",
   "execution_count": 1,
   "metadata": {
    "collapsed": true
   },
   "outputs": [],
   "source": [
    "from util.csq.csq import *"
   ]
  },
  {
   "cell_type": "code",
   "execution_count": 2,
   "outputs": [
    {
     "ename": "FileNotFoundError",
     "evalue": "\"exiftool\" is not found, on path or as absolute path",
     "output_type": "error",
     "traceback": [
      "\u001B[0;31m---------------------------------------------------------------------------\u001B[0m",
      "\u001B[0;31mFileNotFoundError\u001B[0m                         Traceback (most recent call last)",
      "Cell \u001B[0;32mIn [2], line 6\u001B[0m\n\u001B[1;32m      3\u001B[0m \u001B[38;5;28;01mfrom\u001B[39;00m \u001B[38;5;21;01mtqdm\u001B[39;00m \u001B[38;5;28;01mimport\u001B[39;00m trange\n\u001B[1;32m      5\u001B[0m fname \u001B[38;5;241m=\u001B[39m \u001B[38;5;124m'\u001B[39m\u001B[38;5;124m../HYP_T_Data Files/HYP_T_12/High Res Thermal Camera/rec_0028.csq\u001B[39m\u001B[38;5;124m'\u001B[39m\n\u001B[0;32m----> 6\u001B[0m reader \u001B[38;5;241m=\u001B[39m \u001B[43mCSQReader\u001B[49m\u001B[43m(\u001B[49m\u001B[43mfname\u001B[49m\u001B[43m)\u001B[49m\n\u001B[1;32m      7\u001B[0m start \u001B[38;5;241m=\u001B[39m time\u001B[38;5;241m.\u001B[39mtime()\n\u001B[1;32m      9\u001B[0m \u001B[38;5;28;01mfor\u001B[39;00m i \u001B[38;5;129;01min\u001B[39;00m trange(\u001B[38;5;241m20000\u001B[39m):\n",
      "File \u001B[0;32m~/GitHub/hyper_t/util/csq/csq.py:20\u001B[0m, in \u001B[0;36mCSQReader.__init__\u001B[0;34m(self, filename, blocksize)\u001B[0m\n\u001B[1;32m     18\u001B[0m \u001B[38;5;28mself\u001B[39m\u001B[38;5;241m.\u001B[39mimgs \u001B[38;5;241m=\u001B[39m []\n\u001B[1;32m     19\u001B[0m \u001B[38;5;28mself\u001B[39m\u001B[38;5;241m.\u001B[39mindex \u001B[38;5;241m=\u001B[39m \u001B[38;5;241m0\u001B[39m\n\u001B[0;32m---> 20\u001B[0m \u001B[38;5;28mself\u001B[39m\u001B[38;5;241m.\u001B[39met \u001B[38;5;241m=\u001B[39m \u001B[43mexiftool\u001B[49m\u001B[38;5;241;43m.\u001B[39;49m\u001B[43mExifTool\u001B[49m\u001B[43m(\u001B[49m\u001B[43m)\u001B[49m\n\u001B[1;32m     21\u001B[0m \u001B[38;5;28mself\u001B[39m\u001B[38;5;241m.\u001B[39met\u001B[38;5;241m.\u001B[39mstart()\n",
      "File \u001B[0;32m~/GitHub/hyper_t/env/lib/python3.10/site-packages/exiftool/exiftool.py:280\u001B[0m, in \u001B[0;36mExifTool.__init__\u001B[0;34m(self, executable, common_args, win_shell, config_file, encoding, logger)\u001B[0m\n\u001B[1;32m    276\u001B[0m \u001B[38;5;28mself\u001B[39m\u001B[38;5;241m.\u001B[39mlogger \u001B[38;5;241m=\u001B[39m logger\n\u001B[1;32m    278\u001B[0m \u001B[38;5;66;03m# use the passed in parameter, or the default if not set\u001B[39;00m\n\u001B[1;32m    279\u001B[0m \u001B[38;5;66;03m# error checking is done in the property.setter\u001B[39;00m\n\u001B[0;32m--> 280\u001B[0m \u001B[38;5;28mself\u001B[39m\u001B[38;5;241m.\u001B[39mexecutable \u001B[38;5;241m=\u001B[39m executable \u001B[38;5;129;01mor\u001B[39;00m constants\u001B[38;5;241m.\u001B[39mDEFAULT_EXECUTABLE\n\u001B[1;32m    281\u001B[0m \u001B[38;5;28mself\u001B[39m\u001B[38;5;241m.\u001B[39mencoding \u001B[38;5;241m=\u001B[39m encoding\n\u001B[1;32m    282\u001B[0m \u001B[38;5;28mself\u001B[39m\u001B[38;5;241m.\u001B[39mcommon_args \u001B[38;5;241m=\u001B[39m common_args\n",
      "File \u001B[0;32m~/GitHub/hyper_t/env/lib/python3.10/site-packages/exiftool/exiftool.py:354\u001B[0m, in \u001B[0;36mExifTool.executable\u001B[0;34m(self, new_executable)\u001B[0m\n\u001B[1;32m    351\u001B[0m \tabs_path \u001B[38;5;241m=\u001B[39m shutil\u001B[38;5;241m.\u001B[39mwhich(new_executable)\n\u001B[1;32m    353\u001B[0m \t\u001B[38;5;28;01mif\u001B[39;00m abs_path \u001B[38;5;129;01mis\u001B[39;00m \u001B[38;5;28;01mNone\u001B[39;00m:\n\u001B[0;32m--> 354\u001B[0m \t\t\u001B[38;5;28;01mraise\u001B[39;00m \u001B[38;5;167;01mFileNotFoundError\u001B[39;00m(\u001B[38;5;124mf\u001B[39m\u001B[38;5;124m'\u001B[39m\u001B[38;5;124m\"\u001B[39m\u001B[38;5;132;01m{\u001B[39;00mnew_executable\u001B[38;5;132;01m}\u001B[39;00m\u001B[38;5;124m\"\u001B[39m\u001B[38;5;124m is not found, on path or as absolute path\u001B[39m\u001B[38;5;124m'\u001B[39m)\n\u001B[1;32m    356\u001B[0m \u001B[38;5;66;03m# absolute path is returned\u001B[39;00m\n\u001B[1;32m    357\u001B[0m \u001B[38;5;28mself\u001B[39m\u001B[38;5;241m.\u001B[39m_executable \u001B[38;5;241m=\u001B[39m \u001B[38;5;28mstr\u001B[39m(abs_path)\n",
      "\u001B[0;31mFileNotFoundError\u001B[0m: \"exiftool\" is not found, on path or as absolute path"
     ]
    }
   ],
   "source": [
    "import matplotlib.pyplot as plt\n",
    "import time\n",
    "from tqdm import trange\n",
    "\n",
    "fname = '../HYP_T_Data Files/HYP_T_12/High Res Thermal Camera/rec_0028.csq'\n",
    "reader = CSQReader(fname)\n",
    "start = time.time()\n",
    "\n",
    "for i in trange(20000):\n",
    "    frame = reader.next_frame()\n",
    "\n",
    "end = time.time()\n",
    "print(end - start)\n",
    "\n",
    "frame = reader.next_frame()\n",
    "plt.imshow(frame)\n",
    "plt.colorbar()\n",
    "plt.show()\n"
   ],
   "metadata": {
    "collapsed": false
   }
  },
  {
   "cell_type": "code",
   "execution_count": null,
   "outputs": [],
   "source": [],
   "metadata": {
    "collapsed": false
   }
  }
 ],
 "metadata": {
  "kernelspec": {
   "display_name": "Python 3",
   "language": "python",
   "name": "python3"
  },
  "language_info": {
   "codemirror_mode": {
    "name": "ipython",
    "version": 2
   },
   "file_extension": ".py",
   "mimetype": "text/x-python",
   "name": "python",
   "nbconvert_exporter": "python",
   "pygments_lexer": "ipython2",
   "version": "2.7.6"
  }
 },
 "nbformat": 4,
 "nbformat_minor": 0
}
