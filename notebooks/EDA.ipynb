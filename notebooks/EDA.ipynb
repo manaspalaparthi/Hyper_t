{
 "cells": [
  {
   "cell_type": "code",
   "execution_count": 21,
   "outputs": [],
   "source": [
    "import numpy as np\n",
    "import pandas as pd\n",
    "import plotly.express as px"
   ],
   "metadata": {
    "collapsed": false
   }
  },
  {
   "cell_type": "markdown",
   "source": [
    "### HYP_T data for patient ID 12\n",
    "\n"
   ],
   "metadata": {
    "collapsed": false
   }
  },
  {
   "cell_type": "code",
   "execution_count": 22,
   "outputs": [],
   "source": [
    "pID_12  = pd.read_excel(\"../HYP_T_Data Files/HYP_T_12/HYP_T_12 Timings.xlsx\")\n"
   ],
   "metadata": {
    "collapsed": false
   }
  },
  {
   "cell_type": "code",
   "execution_count": 23,
   "outputs": [
    {
     "data": {
      "text/plain": "   Participant ID  Sex (M = 1, F = 2)  Timepoint (sample)  \\\n0              12                   1                   1   \n1              12                   1                   2   \n2              12                   1                   3   \n3              12                   1                   4   \n4              12                   1                   5   \n5              12                   1                   6   \n\n   Planned timing (min)  Actual timing (min)  CoreTemp (deg)  TympTemp (deg)  \\\n0                    10                10.00           37.31            37.0   \n1                    20                20.00           37.25            36.5   \n2                    30                30.00           37.21            36.7   \n3                    40                43.83           37.15            36.5   \n4                    50                53.83           37.14            36.1   \n5                    60                67.08           37.25            35.9   \n\n   HeartRate (bpm)  \n0               68  \n1               70  \n2               71  \n3               74  \n4               80  \n5               74  ",
      "text/html": "<div>\n<style scoped>\n    .dataframe tbody tr th:only-of-type {\n        vertical-align: middle;\n    }\n\n    .dataframe tbody tr th {\n        vertical-align: top;\n    }\n\n    .dataframe thead th {\n        text-align: right;\n    }\n</style>\n<table border=\"1\" class=\"dataframe\">\n  <thead>\n    <tr style=\"text-align: right;\">\n      <th></th>\n      <th>Participant ID</th>\n      <th>Sex (M = 1, F = 2)</th>\n      <th>Timepoint (sample)</th>\n      <th>Planned timing (min)</th>\n      <th>Actual timing (min)</th>\n      <th>CoreTemp (deg)</th>\n      <th>TympTemp (deg)</th>\n      <th>HeartRate (bpm)</th>\n    </tr>\n  </thead>\n  <tbody>\n    <tr>\n      <th>0</th>\n      <td>12</td>\n      <td>1</td>\n      <td>1</td>\n      <td>10</td>\n      <td>10.00</td>\n      <td>37.31</td>\n      <td>37.0</td>\n      <td>68</td>\n    </tr>\n    <tr>\n      <th>1</th>\n      <td>12</td>\n      <td>1</td>\n      <td>2</td>\n      <td>20</td>\n      <td>20.00</td>\n      <td>37.25</td>\n      <td>36.5</td>\n      <td>70</td>\n    </tr>\n    <tr>\n      <th>2</th>\n      <td>12</td>\n      <td>1</td>\n      <td>3</td>\n      <td>30</td>\n      <td>30.00</td>\n      <td>37.21</td>\n      <td>36.7</td>\n      <td>71</td>\n    </tr>\n    <tr>\n      <th>3</th>\n      <td>12</td>\n      <td>1</td>\n      <td>4</td>\n      <td>40</td>\n      <td>43.83</td>\n      <td>37.15</td>\n      <td>36.5</td>\n      <td>74</td>\n    </tr>\n    <tr>\n      <th>4</th>\n      <td>12</td>\n      <td>1</td>\n      <td>5</td>\n      <td>50</td>\n      <td>53.83</td>\n      <td>37.14</td>\n      <td>36.1</td>\n      <td>80</td>\n    </tr>\n    <tr>\n      <th>5</th>\n      <td>12</td>\n      <td>1</td>\n      <td>6</td>\n      <td>60</td>\n      <td>67.08</td>\n      <td>37.25</td>\n      <td>35.9</td>\n      <td>74</td>\n    </tr>\n  </tbody>\n</table>\n</div>"
     },
     "execution_count": 23,
     "metadata": {},
     "output_type": "execute_result"
    }
   ],
   "source": [
    "pID_12"
   ],
   "metadata": {
    "collapsed": false
   }
  },
  {
   "cell_type": "markdown",
   "source": [
    "### ploting time vs CT ,"
   ],
   "metadata": {
    "collapsed": false
   }
  },
  {
   "cell_type": "code",
   "execution_count": 24,
   "outputs": [
    {
     "data": {
      "application/vnd.plotly.v1+json": {
       "data": [
        {
         "hovertemplate": "variable=CoreTemp (deg)<br>Planned timing (min)=%{x}<br>value=%{y}<extra></extra>",
         "legendgroup": "CoreTemp (deg)",
         "line": {
          "color": "#636efa",
          "dash": "solid"
         },
         "marker": {
          "symbol": "circle"
         },
         "mode": "lines",
         "name": "CoreTemp (deg)",
         "orientation": "v",
         "showlegend": true,
         "x": [
          10,
          20,
          30,
          40,
          50,
          60
         ],
         "xaxis": "x",
         "y": [
          37.31,
          37.25,
          37.21,
          37.15,
          37.14,
          37.25
         ],
         "yaxis": "y",
         "type": "scatter"
        },
        {
         "hovertemplate": "variable=TympTemp (deg)<br>Planned timing (min)=%{x}<br>value=%{y}<extra></extra>",
         "legendgroup": "TympTemp (deg)",
         "line": {
          "color": "#EF553B",
          "dash": "solid"
         },
         "marker": {
          "symbol": "circle"
         },
         "mode": "lines",
         "name": "TympTemp (deg)",
         "orientation": "v",
         "showlegend": true,
         "x": [
          10,
          20,
          30,
          40,
          50,
          60
         ],
         "xaxis": "x",
         "y": [
          37.0,
          36.5,
          36.7,
          36.5,
          36.1,
          35.9
         ],
         "yaxis": "y",
         "type": "scatter"
        }
       ],
       "layout": {
        "template": {
         "data": {
          "histogram2dcontour": [
           {
            "type": "histogram2dcontour",
            "colorbar": {
             "outlinewidth": 0,
             "ticks": ""
            },
            "colorscale": [
             [
              0.0,
              "#0d0887"
             ],
             [
              0.1111111111111111,
              "#46039f"
             ],
             [
              0.2222222222222222,
              "#7201a8"
             ],
             [
              0.3333333333333333,
              "#9c179e"
             ],
             [
              0.4444444444444444,
              "#bd3786"
             ],
             [
              0.5555555555555556,
              "#d8576b"
             ],
             [
              0.6666666666666666,
              "#ed7953"
             ],
             [
              0.7777777777777778,
              "#fb9f3a"
             ],
             [
              0.8888888888888888,
              "#fdca26"
             ],
             [
              1.0,
              "#f0f921"
             ]
            ]
           }
          ],
          "choropleth": [
           {
            "type": "choropleth",
            "colorbar": {
             "outlinewidth": 0,
             "ticks": ""
            }
           }
          ],
          "histogram2d": [
           {
            "type": "histogram2d",
            "colorbar": {
             "outlinewidth": 0,
             "ticks": ""
            },
            "colorscale": [
             [
              0.0,
              "#0d0887"
             ],
             [
              0.1111111111111111,
              "#46039f"
             ],
             [
              0.2222222222222222,
              "#7201a8"
             ],
             [
              0.3333333333333333,
              "#9c179e"
             ],
             [
              0.4444444444444444,
              "#bd3786"
             ],
             [
              0.5555555555555556,
              "#d8576b"
             ],
             [
              0.6666666666666666,
              "#ed7953"
             ],
             [
              0.7777777777777778,
              "#fb9f3a"
             ],
             [
              0.8888888888888888,
              "#fdca26"
             ],
             [
              1.0,
              "#f0f921"
             ]
            ]
           }
          ],
          "heatmap": [
           {
            "type": "heatmap",
            "colorbar": {
             "outlinewidth": 0,
             "ticks": ""
            },
            "colorscale": [
             [
              0.0,
              "#0d0887"
             ],
             [
              0.1111111111111111,
              "#46039f"
             ],
             [
              0.2222222222222222,
              "#7201a8"
             ],
             [
              0.3333333333333333,
              "#9c179e"
             ],
             [
              0.4444444444444444,
              "#bd3786"
             ],
             [
              0.5555555555555556,
              "#d8576b"
             ],
             [
              0.6666666666666666,
              "#ed7953"
             ],
             [
              0.7777777777777778,
              "#fb9f3a"
             ],
             [
              0.8888888888888888,
              "#fdca26"
             ],
             [
              1.0,
              "#f0f921"
             ]
            ]
           }
          ],
          "heatmapgl": [
           {
            "type": "heatmapgl",
            "colorbar": {
             "outlinewidth": 0,
             "ticks": ""
            },
            "colorscale": [
             [
              0.0,
              "#0d0887"
             ],
             [
              0.1111111111111111,
              "#46039f"
             ],
             [
              0.2222222222222222,
              "#7201a8"
             ],
             [
              0.3333333333333333,
              "#9c179e"
             ],
             [
              0.4444444444444444,
              "#bd3786"
             ],
             [
              0.5555555555555556,
              "#d8576b"
             ],
             [
              0.6666666666666666,
              "#ed7953"
             ],
             [
              0.7777777777777778,
              "#fb9f3a"
             ],
             [
              0.8888888888888888,
              "#fdca26"
             ],
             [
              1.0,
              "#f0f921"
             ]
            ]
           }
          ],
          "contourcarpet": [
           {
            "type": "contourcarpet",
            "colorbar": {
             "outlinewidth": 0,
             "ticks": ""
            }
           }
          ],
          "contour": [
           {
            "type": "contour",
            "colorbar": {
             "outlinewidth": 0,
             "ticks": ""
            },
            "colorscale": [
             [
              0.0,
              "#0d0887"
             ],
             [
              0.1111111111111111,
              "#46039f"
             ],
             [
              0.2222222222222222,
              "#7201a8"
             ],
             [
              0.3333333333333333,
              "#9c179e"
             ],
             [
              0.4444444444444444,
              "#bd3786"
             ],
             [
              0.5555555555555556,
              "#d8576b"
             ],
             [
              0.6666666666666666,
              "#ed7953"
             ],
             [
              0.7777777777777778,
              "#fb9f3a"
             ],
             [
              0.8888888888888888,
              "#fdca26"
             ],
             [
              1.0,
              "#f0f921"
             ]
            ]
           }
          ],
          "surface": [
           {
            "type": "surface",
            "colorbar": {
             "outlinewidth": 0,
             "ticks": ""
            },
            "colorscale": [
             [
              0.0,
              "#0d0887"
             ],
             [
              0.1111111111111111,
              "#46039f"
             ],
             [
              0.2222222222222222,
              "#7201a8"
             ],
             [
              0.3333333333333333,
              "#9c179e"
             ],
             [
              0.4444444444444444,
              "#bd3786"
             ],
             [
              0.5555555555555556,
              "#d8576b"
             ],
             [
              0.6666666666666666,
              "#ed7953"
             ],
             [
              0.7777777777777778,
              "#fb9f3a"
             ],
             [
              0.8888888888888888,
              "#fdca26"
             ],
             [
              1.0,
              "#f0f921"
             ]
            ]
           }
          ],
          "mesh3d": [
           {
            "type": "mesh3d",
            "colorbar": {
             "outlinewidth": 0,
             "ticks": ""
            }
           }
          ],
          "scatter": [
           {
            "fillpattern": {
             "fillmode": "overlay",
             "size": 10,
             "solidity": 0.2
            },
            "type": "scatter"
           }
          ],
          "parcoords": [
           {
            "type": "parcoords",
            "line": {
             "colorbar": {
              "outlinewidth": 0,
              "ticks": ""
             }
            }
           }
          ],
          "scatterpolargl": [
           {
            "type": "scatterpolargl",
            "marker": {
             "colorbar": {
              "outlinewidth": 0,
              "ticks": ""
             }
            }
           }
          ],
          "bar": [
           {
            "error_x": {
             "color": "#2a3f5f"
            },
            "error_y": {
             "color": "#2a3f5f"
            },
            "marker": {
             "line": {
              "color": "#E5ECF6",
              "width": 0.5
             },
             "pattern": {
              "fillmode": "overlay",
              "size": 10,
              "solidity": 0.2
             }
            },
            "type": "bar"
           }
          ],
          "scattergeo": [
           {
            "type": "scattergeo",
            "marker": {
             "colorbar": {
              "outlinewidth": 0,
              "ticks": ""
             }
            }
           }
          ],
          "scatterpolar": [
           {
            "type": "scatterpolar",
            "marker": {
             "colorbar": {
              "outlinewidth": 0,
              "ticks": ""
             }
            }
           }
          ],
          "histogram": [
           {
            "marker": {
             "pattern": {
              "fillmode": "overlay",
              "size": 10,
              "solidity": 0.2
             }
            },
            "type": "histogram"
           }
          ],
          "scattergl": [
           {
            "type": "scattergl",
            "marker": {
             "colorbar": {
              "outlinewidth": 0,
              "ticks": ""
             }
            }
           }
          ],
          "scatter3d": [
           {
            "type": "scatter3d",
            "line": {
             "colorbar": {
              "outlinewidth": 0,
              "ticks": ""
             }
            },
            "marker": {
             "colorbar": {
              "outlinewidth": 0,
              "ticks": ""
             }
            }
           }
          ],
          "scattermapbox": [
           {
            "type": "scattermapbox",
            "marker": {
             "colorbar": {
              "outlinewidth": 0,
              "ticks": ""
             }
            }
           }
          ],
          "scatterternary": [
           {
            "type": "scatterternary",
            "marker": {
             "colorbar": {
              "outlinewidth": 0,
              "ticks": ""
             }
            }
           }
          ],
          "scattercarpet": [
           {
            "type": "scattercarpet",
            "marker": {
             "colorbar": {
              "outlinewidth": 0,
              "ticks": ""
             }
            }
           }
          ],
          "carpet": [
           {
            "aaxis": {
             "endlinecolor": "#2a3f5f",
             "gridcolor": "white",
             "linecolor": "white",
             "minorgridcolor": "white",
             "startlinecolor": "#2a3f5f"
            },
            "baxis": {
             "endlinecolor": "#2a3f5f",
             "gridcolor": "white",
             "linecolor": "white",
             "minorgridcolor": "white",
             "startlinecolor": "#2a3f5f"
            },
            "type": "carpet"
           }
          ],
          "table": [
           {
            "cells": {
             "fill": {
              "color": "#EBF0F8"
             },
             "line": {
              "color": "white"
             }
            },
            "header": {
             "fill": {
              "color": "#C8D4E3"
             },
             "line": {
              "color": "white"
             }
            },
            "type": "table"
           }
          ],
          "barpolar": [
           {
            "marker": {
             "line": {
              "color": "#E5ECF6",
              "width": 0.5
             },
             "pattern": {
              "fillmode": "overlay",
              "size": 10,
              "solidity": 0.2
             }
            },
            "type": "barpolar"
           }
          ],
          "pie": [
           {
            "automargin": true,
            "type": "pie"
           }
          ]
         },
         "layout": {
          "autotypenumbers": "strict",
          "colorway": [
           "#636efa",
           "#EF553B",
           "#00cc96",
           "#ab63fa",
           "#FFA15A",
           "#19d3f3",
           "#FF6692",
           "#B6E880",
           "#FF97FF",
           "#FECB52"
          ],
          "font": {
           "color": "#2a3f5f"
          },
          "hovermode": "closest",
          "hoverlabel": {
           "align": "left"
          },
          "paper_bgcolor": "white",
          "plot_bgcolor": "#E5ECF6",
          "polar": {
           "bgcolor": "#E5ECF6",
           "angularaxis": {
            "gridcolor": "white",
            "linecolor": "white",
            "ticks": ""
           },
           "radialaxis": {
            "gridcolor": "white",
            "linecolor": "white",
            "ticks": ""
           }
          },
          "ternary": {
           "bgcolor": "#E5ECF6",
           "aaxis": {
            "gridcolor": "white",
            "linecolor": "white",
            "ticks": ""
           },
           "baxis": {
            "gridcolor": "white",
            "linecolor": "white",
            "ticks": ""
           },
           "caxis": {
            "gridcolor": "white",
            "linecolor": "white",
            "ticks": ""
           }
          },
          "coloraxis": {
           "colorbar": {
            "outlinewidth": 0,
            "ticks": ""
           }
          },
          "colorscale": {
           "sequential": [
            [
             0.0,
             "#0d0887"
            ],
            [
             0.1111111111111111,
             "#46039f"
            ],
            [
             0.2222222222222222,
             "#7201a8"
            ],
            [
             0.3333333333333333,
             "#9c179e"
            ],
            [
             0.4444444444444444,
             "#bd3786"
            ],
            [
             0.5555555555555556,
             "#d8576b"
            ],
            [
             0.6666666666666666,
             "#ed7953"
            ],
            [
             0.7777777777777778,
             "#fb9f3a"
            ],
            [
             0.8888888888888888,
             "#fdca26"
            ],
            [
             1.0,
             "#f0f921"
            ]
           ],
           "sequentialminus": [
            [
             0.0,
             "#0d0887"
            ],
            [
             0.1111111111111111,
             "#46039f"
            ],
            [
             0.2222222222222222,
             "#7201a8"
            ],
            [
             0.3333333333333333,
             "#9c179e"
            ],
            [
             0.4444444444444444,
             "#bd3786"
            ],
            [
             0.5555555555555556,
             "#d8576b"
            ],
            [
             0.6666666666666666,
             "#ed7953"
            ],
            [
             0.7777777777777778,
             "#fb9f3a"
            ],
            [
             0.8888888888888888,
             "#fdca26"
            ],
            [
             1.0,
             "#f0f921"
            ]
           ],
           "diverging": [
            [
             0,
             "#8e0152"
            ],
            [
             0.1,
             "#c51b7d"
            ],
            [
             0.2,
             "#de77ae"
            ],
            [
             0.3,
             "#f1b6da"
            ],
            [
             0.4,
             "#fde0ef"
            ],
            [
             0.5,
             "#f7f7f7"
            ],
            [
             0.6,
             "#e6f5d0"
            ],
            [
             0.7,
             "#b8e186"
            ],
            [
             0.8,
             "#7fbc41"
            ],
            [
             0.9,
             "#4d9221"
            ],
            [
             1,
             "#276419"
            ]
           ]
          },
          "xaxis": {
           "gridcolor": "white",
           "linecolor": "white",
           "ticks": "",
           "title": {
            "standoff": 15
           },
           "zerolinecolor": "white",
           "automargin": true,
           "zerolinewidth": 2
          },
          "yaxis": {
           "gridcolor": "white",
           "linecolor": "white",
           "ticks": "",
           "title": {
            "standoff": 15
           },
           "zerolinecolor": "white",
           "automargin": true,
           "zerolinewidth": 2
          },
          "scene": {
           "xaxis": {
            "backgroundcolor": "#E5ECF6",
            "gridcolor": "white",
            "linecolor": "white",
            "showbackground": true,
            "ticks": "",
            "zerolinecolor": "white",
            "gridwidth": 2
           },
           "yaxis": {
            "backgroundcolor": "#E5ECF6",
            "gridcolor": "white",
            "linecolor": "white",
            "showbackground": true,
            "ticks": "",
            "zerolinecolor": "white",
            "gridwidth": 2
           },
           "zaxis": {
            "backgroundcolor": "#E5ECF6",
            "gridcolor": "white",
            "linecolor": "white",
            "showbackground": true,
            "ticks": "",
            "zerolinecolor": "white",
            "gridwidth": 2
           }
          },
          "shapedefaults": {
           "line": {
            "color": "#2a3f5f"
           }
          },
          "annotationdefaults": {
           "arrowcolor": "#2a3f5f",
           "arrowhead": 0,
           "arrowwidth": 1
          },
          "geo": {
           "bgcolor": "white",
           "landcolor": "#E5ECF6",
           "subunitcolor": "white",
           "showland": true,
           "showlakes": true,
           "lakecolor": "white"
          },
          "title": {
           "x": 0.05
          },
          "mapbox": {
           "style": "light"
          }
         }
        },
        "xaxis": {
         "anchor": "y",
         "domain": [
          0.0,
          1.0
         ],
         "title": {
          "text": "Planned timing (min)"
         }
        },
        "yaxis": {
         "anchor": "x",
         "domain": [
          0.0,
          1.0
         ],
         "title": {
          "text": "value"
         }
        },
        "legend": {
         "title": {
          "text": "variable"
         },
         "tracegroupgap": 0
        },
        "margin": {
         "t": 60
        }
       },
       "config": {
        "plotlyServerURL": "https://plot.ly"
       }
      },
      "text/html": "<div>                            <div id=\"854e191a-0e2b-4ba6-9087-5c8f7049fd01\" class=\"plotly-graph-div\" style=\"height:525px; width:100%;\"></div>            <script type=\"text/javascript\">                require([\"plotly\"], function(Plotly) {                    window.PLOTLYENV=window.PLOTLYENV || {};                                    if (document.getElementById(\"854e191a-0e2b-4ba6-9087-5c8f7049fd01\")) {                    Plotly.newPlot(                        \"854e191a-0e2b-4ba6-9087-5c8f7049fd01\",                        [{\"hovertemplate\":\"variable=CoreTemp (deg)<br>Planned timing (min)=%{x}<br>value=%{y}<extra></extra>\",\"legendgroup\":\"CoreTemp (deg)\",\"line\":{\"color\":\"#636efa\",\"dash\":\"solid\"},\"marker\":{\"symbol\":\"circle\"},\"mode\":\"lines\",\"name\":\"CoreTemp (deg)\",\"orientation\":\"v\",\"showlegend\":true,\"x\":[10,20,30,40,50,60],\"xaxis\":\"x\",\"y\":[37.31,37.25,37.21,37.15,37.14,37.25],\"yaxis\":\"y\",\"type\":\"scatter\"},{\"hovertemplate\":\"variable=TympTemp (deg)<br>Planned timing (min)=%{x}<br>value=%{y}<extra></extra>\",\"legendgroup\":\"TympTemp (deg)\",\"line\":{\"color\":\"#EF553B\",\"dash\":\"solid\"},\"marker\":{\"symbol\":\"circle\"},\"mode\":\"lines\",\"name\":\"TympTemp (deg)\",\"orientation\":\"v\",\"showlegend\":true,\"x\":[10,20,30,40,50,60],\"xaxis\":\"x\",\"y\":[37.0,36.5,36.7,36.5,36.1,35.9],\"yaxis\":\"y\",\"type\":\"scatter\"}],                        {\"template\":{\"data\":{\"histogram2dcontour\":[{\"type\":\"histogram2dcontour\",\"colorbar\":{\"outlinewidth\":0,\"ticks\":\"\"},\"colorscale\":[[0.0,\"#0d0887\"],[0.1111111111111111,\"#46039f\"],[0.2222222222222222,\"#7201a8\"],[0.3333333333333333,\"#9c179e\"],[0.4444444444444444,\"#bd3786\"],[0.5555555555555556,\"#d8576b\"],[0.6666666666666666,\"#ed7953\"],[0.7777777777777778,\"#fb9f3a\"],[0.8888888888888888,\"#fdca26\"],[1.0,\"#f0f921\"]]}],\"choropleth\":[{\"type\":\"choropleth\",\"colorbar\":{\"outlinewidth\":0,\"ticks\":\"\"}}],\"histogram2d\":[{\"type\":\"histogram2d\",\"colorbar\":{\"outlinewidth\":0,\"ticks\":\"\"},\"colorscale\":[[0.0,\"#0d0887\"],[0.1111111111111111,\"#46039f\"],[0.2222222222222222,\"#7201a8\"],[0.3333333333333333,\"#9c179e\"],[0.4444444444444444,\"#bd3786\"],[0.5555555555555556,\"#d8576b\"],[0.6666666666666666,\"#ed7953\"],[0.7777777777777778,\"#fb9f3a\"],[0.8888888888888888,\"#fdca26\"],[1.0,\"#f0f921\"]]}],\"heatmap\":[{\"type\":\"heatmap\",\"colorbar\":{\"outlinewidth\":0,\"ticks\":\"\"},\"colorscale\":[[0.0,\"#0d0887\"],[0.1111111111111111,\"#46039f\"],[0.2222222222222222,\"#7201a8\"],[0.3333333333333333,\"#9c179e\"],[0.4444444444444444,\"#bd3786\"],[0.5555555555555556,\"#d8576b\"],[0.6666666666666666,\"#ed7953\"],[0.7777777777777778,\"#fb9f3a\"],[0.8888888888888888,\"#fdca26\"],[1.0,\"#f0f921\"]]}],\"heatmapgl\":[{\"type\":\"heatmapgl\",\"colorbar\":{\"outlinewidth\":0,\"ticks\":\"\"},\"colorscale\":[[0.0,\"#0d0887\"],[0.1111111111111111,\"#46039f\"],[0.2222222222222222,\"#7201a8\"],[0.3333333333333333,\"#9c179e\"],[0.4444444444444444,\"#bd3786\"],[0.5555555555555556,\"#d8576b\"],[0.6666666666666666,\"#ed7953\"],[0.7777777777777778,\"#fb9f3a\"],[0.8888888888888888,\"#fdca26\"],[1.0,\"#f0f921\"]]}],\"contourcarpet\":[{\"type\":\"contourcarpet\",\"colorbar\":{\"outlinewidth\":0,\"ticks\":\"\"}}],\"contour\":[{\"type\":\"contour\",\"colorbar\":{\"outlinewidth\":0,\"ticks\":\"\"},\"colorscale\":[[0.0,\"#0d0887\"],[0.1111111111111111,\"#46039f\"],[0.2222222222222222,\"#7201a8\"],[0.3333333333333333,\"#9c179e\"],[0.4444444444444444,\"#bd3786\"],[0.5555555555555556,\"#d8576b\"],[0.6666666666666666,\"#ed7953\"],[0.7777777777777778,\"#fb9f3a\"],[0.8888888888888888,\"#fdca26\"],[1.0,\"#f0f921\"]]}],\"surface\":[{\"type\":\"surface\",\"colorbar\":{\"outlinewidth\":0,\"ticks\":\"\"},\"colorscale\":[[0.0,\"#0d0887\"],[0.1111111111111111,\"#46039f\"],[0.2222222222222222,\"#7201a8\"],[0.3333333333333333,\"#9c179e\"],[0.4444444444444444,\"#bd3786\"],[0.5555555555555556,\"#d8576b\"],[0.6666666666666666,\"#ed7953\"],[0.7777777777777778,\"#fb9f3a\"],[0.8888888888888888,\"#fdca26\"],[1.0,\"#f0f921\"]]}],\"mesh3d\":[{\"type\":\"mesh3d\",\"colorbar\":{\"outlinewidth\":0,\"ticks\":\"\"}}],\"scatter\":[{\"fillpattern\":{\"fillmode\":\"overlay\",\"size\":10,\"solidity\":0.2},\"type\":\"scatter\"}],\"parcoords\":[{\"type\":\"parcoords\",\"line\":{\"colorbar\":{\"outlinewidth\":0,\"ticks\":\"\"}}}],\"scatterpolargl\":[{\"type\":\"scatterpolargl\",\"marker\":{\"colorbar\":{\"outlinewidth\":0,\"ticks\":\"\"}}}],\"bar\":[{\"error_x\":{\"color\":\"#2a3f5f\"},\"error_y\":{\"color\":\"#2a3f5f\"},\"marker\":{\"line\":{\"color\":\"#E5ECF6\",\"width\":0.5},\"pattern\":{\"fillmode\":\"overlay\",\"size\":10,\"solidity\":0.2}},\"type\":\"bar\"}],\"scattergeo\":[{\"type\":\"scattergeo\",\"marker\":{\"colorbar\":{\"outlinewidth\":0,\"ticks\":\"\"}}}],\"scatterpolar\":[{\"type\":\"scatterpolar\",\"marker\":{\"colorbar\":{\"outlinewidth\":0,\"ticks\":\"\"}}}],\"histogram\":[{\"marker\":{\"pattern\":{\"fillmode\":\"overlay\",\"size\":10,\"solidity\":0.2}},\"type\":\"histogram\"}],\"scattergl\":[{\"type\":\"scattergl\",\"marker\":{\"colorbar\":{\"outlinewidth\":0,\"ticks\":\"\"}}}],\"scatter3d\":[{\"type\":\"scatter3d\",\"line\":{\"colorbar\":{\"outlinewidth\":0,\"ticks\":\"\"}},\"marker\":{\"colorbar\":{\"outlinewidth\":0,\"ticks\":\"\"}}}],\"scattermapbox\":[{\"type\":\"scattermapbox\",\"marker\":{\"colorbar\":{\"outlinewidth\":0,\"ticks\":\"\"}}}],\"scatterternary\":[{\"type\":\"scatterternary\",\"marker\":{\"colorbar\":{\"outlinewidth\":0,\"ticks\":\"\"}}}],\"scattercarpet\":[{\"type\":\"scattercarpet\",\"marker\":{\"colorbar\":{\"outlinewidth\":0,\"ticks\":\"\"}}}],\"carpet\":[{\"aaxis\":{\"endlinecolor\":\"#2a3f5f\",\"gridcolor\":\"white\",\"linecolor\":\"white\",\"minorgridcolor\":\"white\",\"startlinecolor\":\"#2a3f5f\"},\"baxis\":{\"endlinecolor\":\"#2a3f5f\",\"gridcolor\":\"white\",\"linecolor\":\"white\",\"minorgridcolor\":\"white\",\"startlinecolor\":\"#2a3f5f\"},\"type\":\"carpet\"}],\"table\":[{\"cells\":{\"fill\":{\"color\":\"#EBF0F8\"},\"line\":{\"color\":\"white\"}},\"header\":{\"fill\":{\"color\":\"#C8D4E3\"},\"line\":{\"color\":\"white\"}},\"type\":\"table\"}],\"barpolar\":[{\"marker\":{\"line\":{\"color\":\"#E5ECF6\",\"width\":0.5},\"pattern\":{\"fillmode\":\"overlay\",\"size\":10,\"solidity\":0.2}},\"type\":\"barpolar\"}],\"pie\":[{\"automargin\":true,\"type\":\"pie\"}]},\"layout\":{\"autotypenumbers\":\"strict\",\"colorway\":[\"#636efa\",\"#EF553B\",\"#00cc96\",\"#ab63fa\",\"#FFA15A\",\"#19d3f3\",\"#FF6692\",\"#B6E880\",\"#FF97FF\",\"#FECB52\"],\"font\":{\"color\":\"#2a3f5f\"},\"hovermode\":\"closest\",\"hoverlabel\":{\"align\":\"left\"},\"paper_bgcolor\":\"white\",\"plot_bgcolor\":\"#E5ECF6\",\"polar\":{\"bgcolor\":\"#E5ECF6\",\"angularaxis\":{\"gridcolor\":\"white\",\"linecolor\":\"white\",\"ticks\":\"\"},\"radialaxis\":{\"gridcolor\":\"white\",\"linecolor\":\"white\",\"ticks\":\"\"}},\"ternary\":{\"bgcolor\":\"#E5ECF6\",\"aaxis\":{\"gridcolor\":\"white\",\"linecolor\":\"white\",\"ticks\":\"\"},\"baxis\":{\"gridcolor\":\"white\",\"linecolor\":\"white\",\"ticks\":\"\"},\"caxis\":{\"gridcolor\":\"white\",\"linecolor\":\"white\",\"ticks\":\"\"}},\"coloraxis\":{\"colorbar\":{\"outlinewidth\":0,\"ticks\":\"\"}},\"colorscale\":{\"sequential\":[[0.0,\"#0d0887\"],[0.1111111111111111,\"#46039f\"],[0.2222222222222222,\"#7201a8\"],[0.3333333333333333,\"#9c179e\"],[0.4444444444444444,\"#bd3786\"],[0.5555555555555556,\"#d8576b\"],[0.6666666666666666,\"#ed7953\"],[0.7777777777777778,\"#fb9f3a\"],[0.8888888888888888,\"#fdca26\"],[1.0,\"#f0f921\"]],\"sequentialminus\":[[0.0,\"#0d0887\"],[0.1111111111111111,\"#46039f\"],[0.2222222222222222,\"#7201a8\"],[0.3333333333333333,\"#9c179e\"],[0.4444444444444444,\"#bd3786\"],[0.5555555555555556,\"#d8576b\"],[0.6666666666666666,\"#ed7953\"],[0.7777777777777778,\"#fb9f3a\"],[0.8888888888888888,\"#fdca26\"],[1.0,\"#f0f921\"]],\"diverging\":[[0,\"#8e0152\"],[0.1,\"#c51b7d\"],[0.2,\"#de77ae\"],[0.3,\"#f1b6da\"],[0.4,\"#fde0ef\"],[0.5,\"#f7f7f7\"],[0.6,\"#e6f5d0\"],[0.7,\"#b8e186\"],[0.8,\"#7fbc41\"],[0.9,\"#4d9221\"],[1,\"#276419\"]]},\"xaxis\":{\"gridcolor\":\"white\",\"linecolor\":\"white\",\"ticks\":\"\",\"title\":{\"standoff\":15},\"zerolinecolor\":\"white\",\"automargin\":true,\"zerolinewidth\":2},\"yaxis\":{\"gridcolor\":\"white\",\"linecolor\":\"white\",\"ticks\":\"\",\"title\":{\"standoff\":15},\"zerolinecolor\":\"white\",\"automargin\":true,\"zerolinewidth\":2},\"scene\":{\"xaxis\":{\"backgroundcolor\":\"#E5ECF6\",\"gridcolor\":\"white\",\"linecolor\":\"white\",\"showbackground\":true,\"ticks\":\"\",\"zerolinecolor\":\"white\",\"gridwidth\":2},\"yaxis\":{\"backgroundcolor\":\"#E5ECF6\",\"gridcolor\":\"white\",\"linecolor\":\"white\",\"showbackground\":true,\"ticks\":\"\",\"zerolinecolor\":\"white\",\"gridwidth\":2},\"zaxis\":{\"backgroundcolor\":\"#E5ECF6\",\"gridcolor\":\"white\",\"linecolor\":\"white\",\"showbackground\":true,\"ticks\":\"\",\"zerolinecolor\":\"white\",\"gridwidth\":2}},\"shapedefaults\":{\"line\":{\"color\":\"#2a3f5f\"}},\"annotationdefaults\":{\"arrowcolor\":\"#2a3f5f\",\"arrowhead\":0,\"arrowwidth\":1},\"geo\":{\"bgcolor\":\"white\",\"landcolor\":\"#E5ECF6\",\"subunitcolor\":\"white\",\"showland\":true,\"showlakes\":true,\"lakecolor\":\"white\"},\"title\":{\"x\":0.05},\"mapbox\":{\"style\":\"light\"}}},\"xaxis\":{\"anchor\":\"y\",\"domain\":[0.0,1.0],\"title\":{\"text\":\"Planned timing (min)\"}},\"yaxis\":{\"anchor\":\"x\",\"domain\":[0.0,1.0],\"title\":{\"text\":\"value\"}},\"legend\":{\"title\":{\"text\":\"variable\"},\"tracegroupgap\":0},\"margin\":{\"t\":60}},                        {\"responsive\": true}                    ).then(function(){\n                            \nvar gd = document.getElementById('854e191a-0e2b-4ba6-9087-5c8f7049fd01');\nvar x = new MutationObserver(function (mutations, observer) {{\n        var display = window.getComputedStyle(gd).display;\n        if (!display || display === 'none') {{\n            console.log([gd, 'removed!']);\n            Plotly.purge(gd);\n            observer.disconnect();\n        }}\n}});\n\n// Listen for the removal of the full notebook cells\nvar notebookContainer = gd.closest('#notebook-container');\nif (notebookContainer) {{\n    x.observe(notebookContainer, {childList: true});\n}}\n\n// Listen for the clearing of the current output cell\nvar outputEl = gd.closest('.output');\nif (outputEl) {{\n    x.observe(outputEl, {childList: true});\n}}\n\n                        })                };                });            </script>        </div>"
     },
     "metadata": {},
     "output_type": "display_data"
    }
   ],
   "source": [
    "fig = px.line(pID_12, x=\"Planned timing (min)\", y=[\"CoreTemp (deg)\",\"TympTemp (deg)\"])\n",
    "fig.show()"
   ],
   "metadata": {
    "collapsed": false
   }
  },
  {
   "cell_type": "code",
   "execution_count": 25,
   "outputs": [
    {
     "data": {
      "application/vnd.plotly.v1+json": {
       "data": [
        {
         "hovertemplate": "variable=HeartRate (bpm)<br>Planned timing (min)=%{x}<br>value=%{y}<extra></extra>",
         "legendgroup": "HeartRate (bpm)",
         "line": {
          "color": "#636efa",
          "dash": "solid"
         },
         "marker": {
          "symbol": "circle"
         },
         "mode": "lines",
         "name": "HeartRate (bpm)",
         "orientation": "v",
         "showlegend": true,
         "x": [
          10,
          20,
          30,
          40,
          50,
          60
         ],
         "xaxis": "x",
         "y": [
          68,
          70,
          71,
          74,
          80,
          74
         ],
         "yaxis": "y",
         "type": "scatter"
        }
       ],
       "layout": {
        "template": {
         "data": {
          "histogram2dcontour": [
           {
            "type": "histogram2dcontour",
            "colorbar": {
             "outlinewidth": 0,
             "ticks": ""
            },
            "colorscale": [
             [
              0.0,
              "#0d0887"
             ],
             [
              0.1111111111111111,
              "#46039f"
             ],
             [
              0.2222222222222222,
              "#7201a8"
             ],
             [
              0.3333333333333333,
              "#9c179e"
             ],
             [
              0.4444444444444444,
              "#bd3786"
             ],
             [
              0.5555555555555556,
              "#d8576b"
             ],
             [
              0.6666666666666666,
              "#ed7953"
             ],
             [
              0.7777777777777778,
              "#fb9f3a"
             ],
             [
              0.8888888888888888,
              "#fdca26"
             ],
             [
              1.0,
              "#f0f921"
             ]
            ]
           }
          ],
          "choropleth": [
           {
            "type": "choropleth",
            "colorbar": {
             "outlinewidth": 0,
             "ticks": ""
            }
           }
          ],
          "histogram2d": [
           {
            "type": "histogram2d",
            "colorbar": {
             "outlinewidth": 0,
             "ticks": ""
            },
            "colorscale": [
             [
              0.0,
              "#0d0887"
             ],
             [
              0.1111111111111111,
              "#46039f"
             ],
             [
              0.2222222222222222,
              "#7201a8"
             ],
             [
              0.3333333333333333,
              "#9c179e"
             ],
             [
              0.4444444444444444,
              "#bd3786"
             ],
             [
              0.5555555555555556,
              "#d8576b"
             ],
             [
              0.6666666666666666,
              "#ed7953"
             ],
             [
              0.7777777777777778,
              "#fb9f3a"
             ],
             [
              0.8888888888888888,
              "#fdca26"
             ],
             [
              1.0,
              "#f0f921"
             ]
            ]
           }
          ],
          "heatmap": [
           {
            "type": "heatmap",
            "colorbar": {
             "outlinewidth": 0,
             "ticks": ""
            },
            "colorscale": [
             [
              0.0,
              "#0d0887"
             ],
             [
              0.1111111111111111,
              "#46039f"
             ],
             [
              0.2222222222222222,
              "#7201a8"
             ],
             [
              0.3333333333333333,
              "#9c179e"
             ],
             [
              0.4444444444444444,
              "#bd3786"
             ],
             [
              0.5555555555555556,
              "#d8576b"
             ],
             [
              0.6666666666666666,
              "#ed7953"
             ],
             [
              0.7777777777777778,
              "#fb9f3a"
             ],
             [
              0.8888888888888888,
              "#fdca26"
             ],
             [
              1.0,
              "#f0f921"
             ]
            ]
           }
          ],
          "heatmapgl": [
           {
            "type": "heatmapgl",
            "colorbar": {
             "outlinewidth": 0,
             "ticks": ""
            },
            "colorscale": [
             [
              0.0,
              "#0d0887"
             ],
             [
              0.1111111111111111,
              "#46039f"
             ],
             [
              0.2222222222222222,
              "#7201a8"
             ],
             [
              0.3333333333333333,
              "#9c179e"
             ],
             [
              0.4444444444444444,
              "#bd3786"
             ],
             [
              0.5555555555555556,
              "#d8576b"
             ],
             [
              0.6666666666666666,
              "#ed7953"
             ],
             [
              0.7777777777777778,
              "#fb9f3a"
             ],
             [
              0.8888888888888888,
              "#fdca26"
             ],
             [
              1.0,
              "#f0f921"
             ]
            ]
           }
          ],
          "contourcarpet": [
           {
            "type": "contourcarpet",
            "colorbar": {
             "outlinewidth": 0,
             "ticks": ""
            }
           }
          ],
          "contour": [
           {
            "type": "contour",
            "colorbar": {
             "outlinewidth": 0,
             "ticks": ""
            },
            "colorscale": [
             [
              0.0,
              "#0d0887"
             ],
             [
              0.1111111111111111,
              "#46039f"
             ],
             [
              0.2222222222222222,
              "#7201a8"
             ],
             [
              0.3333333333333333,
              "#9c179e"
             ],
             [
              0.4444444444444444,
              "#bd3786"
             ],
             [
              0.5555555555555556,
              "#d8576b"
             ],
             [
              0.6666666666666666,
              "#ed7953"
             ],
             [
              0.7777777777777778,
              "#fb9f3a"
             ],
             [
              0.8888888888888888,
              "#fdca26"
             ],
             [
              1.0,
              "#f0f921"
             ]
            ]
           }
          ],
          "surface": [
           {
            "type": "surface",
            "colorbar": {
             "outlinewidth": 0,
             "ticks": ""
            },
            "colorscale": [
             [
              0.0,
              "#0d0887"
             ],
             [
              0.1111111111111111,
              "#46039f"
             ],
             [
              0.2222222222222222,
              "#7201a8"
             ],
             [
              0.3333333333333333,
              "#9c179e"
             ],
             [
              0.4444444444444444,
              "#bd3786"
             ],
             [
              0.5555555555555556,
              "#d8576b"
             ],
             [
              0.6666666666666666,
              "#ed7953"
             ],
             [
              0.7777777777777778,
              "#fb9f3a"
             ],
             [
              0.8888888888888888,
              "#fdca26"
             ],
             [
              1.0,
              "#f0f921"
             ]
            ]
           }
          ],
          "mesh3d": [
           {
            "type": "mesh3d",
            "colorbar": {
             "outlinewidth": 0,
             "ticks": ""
            }
           }
          ],
          "scatter": [
           {
            "fillpattern": {
             "fillmode": "overlay",
             "size": 10,
             "solidity": 0.2
            },
            "type": "scatter"
           }
          ],
          "parcoords": [
           {
            "type": "parcoords",
            "line": {
             "colorbar": {
              "outlinewidth": 0,
              "ticks": ""
             }
            }
           }
          ],
          "scatterpolargl": [
           {
            "type": "scatterpolargl",
            "marker": {
             "colorbar": {
              "outlinewidth": 0,
              "ticks": ""
             }
            }
           }
          ],
          "bar": [
           {
            "error_x": {
             "color": "#2a3f5f"
            },
            "error_y": {
             "color": "#2a3f5f"
            },
            "marker": {
             "line": {
              "color": "#E5ECF6",
              "width": 0.5
             },
             "pattern": {
              "fillmode": "overlay",
              "size": 10,
              "solidity": 0.2
             }
            },
            "type": "bar"
           }
          ],
          "scattergeo": [
           {
            "type": "scattergeo",
            "marker": {
             "colorbar": {
              "outlinewidth": 0,
              "ticks": ""
             }
            }
           }
          ],
          "scatterpolar": [
           {
            "type": "scatterpolar",
            "marker": {
             "colorbar": {
              "outlinewidth": 0,
              "ticks": ""
             }
            }
           }
          ],
          "histogram": [
           {
            "marker": {
             "pattern": {
              "fillmode": "overlay",
              "size": 10,
              "solidity": 0.2
             }
            },
            "type": "histogram"
           }
          ],
          "scattergl": [
           {
            "type": "scattergl",
            "marker": {
             "colorbar": {
              "outlinewidth": 0,
              "ticks": ""
             }
            }
           }
          ],
          "scatter3d": [
           {
            "type": "scatter3d",
            "line": {
             "colorbar": {
              "outlinewidth": 0,
              "ticks": ""
             }
            },
            "marker": {
             "colorbar": {
              "outlinewidth": 0,
              "ticks": ""
             }
            }
           }
          ],
          "scattermapbox": [
           {
            "type": "scattermapbox",
            "marker": {
             "colorbar": {
              "outlinewidth": 0,
              "ticks": ""
             }
            }
           }
          ],
          "scatterternary": [
           {
            "type": "scatterternary",
            "marker": {
             "colorbar": {
              "outlinewidth": 0,
              "ticks": ""
             }
            }
           }
          ],
          "scattercarpet": [
           {
            "type": "scattercarpet",
            "marker": {
             "colorbar": {
              "outlinewidth": 0,
              "ticks": ""
             }
            }
           }
          ],
          "carpet": [
           {
            "aaxis": {
             "endlinecolor": "#2a3f5f",
             "gridcolor": "white",
             "linecolor": "white",
             "minorgridcolor": "white",
             "startlinecolor": "#2a3f5f"
            },
            "baxis": {
             "endlinecolor": "#2a3f5f",
             "gridcolor": "white",
             "linecolor": "white",
             "minorgridcolor": "white",
             "startlinecolor": "#2a3f5f"
            },
            "type": "carpet"
           }
          ],
          "table": [
           {
            "cells": {
             "fill": {
              "color": "#EBF0F8"
             },
             "line": {
              "color": "white"
             }
            },
            "header": {
             "fill": {
              "color": "#C8D4E3"
             },
             "line": {
              "color": "white"
             }
            },
            "type": "table"
           }
          ],
          "barpolar": [
           {
            "marker": {
             "line": {
              "color": "#E5ECF6",
              "width": 0.5
             },
             "pattern": {
              "fillmode": "overlay",
              "size": 10,
              "solidity": 0.2
             }
            },
            "type": "barpolar"
           }
          ],
          "pie": [
           {
            "automargin": true,
            "type": "pie"
           }
          ]
         },
         "layout": {
          "autotypenumbers": "strict",
          "colorway": [
           "#636efa",
           "#EF553B",
           "#00cc96",
           "#ab63fa",
           "#FFA15A",
           "#19d3f3",
           "#FF6692",
           "#B6E880",
           "#FF97FF",
           "#FECB52"
          ],
          "font": {
           "color": "#2a3f5f"
          },
          "hovermode": "closest",
          "hoverlabel": {
           "align": "left"
          },
          "paper_bgcolor": "white",
          "plot_bgcolor": "#E5ECF6",
          "polar": {
           "bgcolor": "#E5ECF6",
           "angularaxis": {
            "gridcolor": "white",
            "linecolor": "white",
            "ticks": ""
           },
           "radialaxis": {
            "gridcolor": "white",
            "linecolor": "white",
            "ticks": ""
           }
          },
          "ternary": {
           "bgcolor": "#E5ECF6",
           "aaxis": {
            "gridcolor": "white",
            "linecolor": "white",
            "ticks": ""
           },
           "baxis": {
            "gridcolor": "white",
            "linecolor": "white",
            "ticks": ""
           },
           "caxis": {
            "gridcolor": "white",
            "linecolor": "white",
            "ticks": ""
           }
          },
          "coloraxis": {
           "colorbar": {
            "outlinewidth": 0,
            "ticks": ""
           }
          },
          "colorscale": {
           "sequential": [
            [
             0.0,
             "#0d0887"
            ],
            [
             0.1111111111111111,
             "#46039f"
            ],
            [
             0.2222222222222222,
             "#7201a8"
            ],
            [
             0.3333333333333333,
             "#9c179e"
            ],
            [
             0.4444444444444444,
             "#bd3786"
            ],
            [
             0.5555555555555556,
             "#d8576b"
            ],
            [
             0.6666666666666666,
             "#ed7953"
            ],
            [
             0.7777777777777778,
             "#fb9f3a"
            ],
            [
             0.8888888888888888,
             "#fdca26"
            ],
            [
             1.0,
             "#f0f921"
            ]
           ],
           "sequentialminus": [
            [
             0.0,
             "#0d0887"
            ],
            [
             0.1111111111111111,
             "#46039f"
            ],
            [
             0.2222222222222222,
             "#7201a8"
            ],
            [
             0.3333333333333333,
             "#9c179e"
            ],
            [
             0.4444444444444444,
             "#bd3786"
            ],
            [
             0.5555555555555556,
             "#d8576b"
            ],
            [
             0.6666666666666666,
             "#ed7953"
            ],
            [
             0.7777777777777778,
             "#fb9f3a"
            ],
            [
             0.8888888888888888,
             "#fdca26"
            ],
            [
             1.0,
             "#f0f921"
            ]
           ],
           "diverging": [
            [
             0,
             "#8e0152"
            ],
            [
             0.1,
             "#c51b7d"
            ],
            [
             0.2,
             "#de77ae"
            ],
            [
             0.3,
             "#f1b6da"
            ],
            [
             0.4,
             "#fde0ef"
            ],
            [
             0.5,
             "#f7f7f7"
            ],
            [
             0.6,
             "#e6f5d0"
            ],
            [
             0.7,
             "#b8e186"
            ],
            [
             0.8,
             "#7fbc41"
            ],
            [
             0.9,
             "#4d9221"
            ],
            [
             1,
             "#276419"
            ]
           ]
          },
          "xaxis": {
           "gridcolor": "white",
           "linecolor": "white",
           "ticks": "",
           "title": {
            "standoff": 15
           },
           "zerolinecolor": "white",
           "automargin": true,
           "zerolinewidth": 2
          },
          "yaxis": {
           "gridcolor": "white",
           "linecolor": "white",
           "ticks": "",
           "title": {
            "standoff": 15
           },
           "zerolinecolor": "white",
           "automargin": true,
           "zerolinewidth": 2
          },
          "scene": {
           "xaxis": {
            "backgroundcolor": "#E5ECF6",
            "gridcolor": "white",
            "linecolor": "white",
            "showbackground": true,
            "ticks": "",
            "zerolinecolor": "white",
            "gridwidth": 2
           },
           "yaxis": {
            "backgroundcolor": "#E5ECF6",
            "gridcolor": "white",
            "linecolor": "white",
            "showbackground": true,
            "ticks": "",
            "zerolinecolor": "white",
            "gridwidth": 2
           },
           "zaxis": {
            "backgroundcolor": "#E5ECF6",
            "gridcolor": "white",
            "linecolor": "white",
            "showbackground": true,
            "ticks": "",
            "zerolinecolor": "white",
            "gridwidth": 2
           }
          },
          "shapedefaults": {
           "line": {
            "color": "#2a3f5f"
           }
          },
          "annotationdefaults": {
           "arrowcolor": "#2a3f5f",
           "arrowhead": 0,
           "arrowwidth": 1
          },
          "geo": {
           "bgcolor": "white",
           "landcolor": "#E5ECF6",
           "subunitcolor": "white",
           "showland": true,
           "showlakes": true,
           "lakecolor": "white"
          },
          "title": {
           "x": 0.05
          },
          "mapbox": {
           "style": "light"
          }
         }
        },
        "xaxis": {
         "anchor": "y",
         "domain": [
          0.0,
          1.0
         ],
         "title": {
          "text": "Planned timing (min)"
         }
        },
        "yaxis": {
         "anchor": "x",
         "domain": [
          0.0,
          1.0
         ],
         "title": {
          "text": "value"
         }
        },
        "legend": {
         "title": {
          "text": "variable"
         },
         "tracegroupgap": 0
        },
        "margin": {
         "t": 60
        }
       },
       "config": {
        "plotlyServerURL": "https://plot.ly"
       }
      },
      "text/html": "<div>                            <div id=\"88772468-d975-44bd-90bf-dc16930d5184\" class=\"plotly-graph-div\" style=\"height:525px; width:100%;\"></div>            <script type=\"text/javascript\">                require([\"plotly\"], function(Plotly) {                    window.PLOTLYENV=window.PLOTLYENV || {};                                    if (document.getElementById(\"88772468-d975-44bd-90bf-dc16930d5184\")) {                    Plotly.newPlot(                        \"88772468-d975-44bd-90bf-dc16930d5184\",                        [{\"hovertemplate\":\"variable=HeartRate (bpm)<br>Planned timing (min)=%{x}<br>value=%{y}<extra></extra>\",\"legendgroup\":\"HeartRate (bpm)\",\"line\":{\"color\":\"#636efa\",\"dash\":\"solid\"},\"marker\":{\"symbol\":\"circle\"},\"mode\":\"lines\",\"name\":\"HeartRate (bpm)\",\"orientation\":\"v\",\"showlegend\":true,\"x\":[10,20,30,40,50,60],\"xaxis\":\"x\",\"y\":[68,70,71,74,80,74],\"yaxis\":\"y\",\"type\":\"scatter\"}],                        {\"template\":{\"data\":{\"histogram2dcontour\":[{\"type\":\"histogram2dcontour\",\"colorbar\":{\"outlinewidth\":0,\"ticks\":\"\"},\"colorscale\":[[0.0,\"#0d0887\"],[0.1111111111111111,\"#46039f\"],[0.2222222222222222,\"#7201a8\"],[0.3333333333333333,\"#9c179e\"],[0.4444444444444444,\"#bd3786\"],[0.5555555555555556,\"#d8576b\"],[0.6666666666666666,\"#ed7953\"],[0.7777777777777778,\"#fb9f3a\"],[0.8888888888888888,\"#fdca26\"],[1.0,\"#f0f921\"]]}],\"choropleth\":[{\"type\":\"choropleth\",\"colorbar\":{\"outlinewidth\":0,\"ticks\":\"\"}}],\"histogram2d\":[{\"type\":\"histogram2d\",\"colorbar\":{\"outlinewidth\":0,\"ticks\":\"\"},\"colorscale\":[[0.0,\"#0d0887\"],[0.1111111111111111,\"#46039f\"],[0.2222222222222222,\"#7201a8\"],[0.3333333333333333,\"#9c179e\"],[0.4444444444444444,\"#bd3786\"],[0.5555555555555556,\"#d8576b\"],[0.6666666666666666,\"#ed7953\"],[0.7777777777777778,\"#fb9f3a\"],[0.8888888888888888,\"#fdca26\"],[1.0,\"#f0f921\"]]}],\"heatmap\":[{\"type\":\"heatmap\",\"colorbar\":{\"outlinewidth\":0,\"ticks\":\"\"},\"colorscale\":[[0.0,\"#0d0887\"],[0.1111111111111111,\"#46039f\"],[0.2222222222222222,\"#7201a8\"],[0.3333333333333333,\"#9c179e\"],[0.4444444444444444,\"#bd3786\"],[0.5555555555555556,\"#d8576b\"],[0.6666666666666666,\"#ed7953\"],[0.7777777777777778,\"#fb9f3a\"],[0.8888888888888888,\"#fdca26\"],[1.0,\"#f0f921\"]]}],\"heatmapgl\":[{\"type\":\"heatmapgl\",\"colorbar\":{\"outlinewidth\":0,\"ticks\":\"\"},\"colorscale\":[[0.0,\"#0d0887\"],[0.1111111111111111,\"#46039f\"],[0.2222222222222222,\"#7201a8\"],[0.3333333333333333,\"#9c179e\"],[0.4444444444444444,\"#bd3786\"],[0.5555555555555556,\"#d8576b\"],[0.6666666666666666,\"#ed7953\"],[0.7777777777777778,\"#fb9f3a\"],[0.8888888888888888,\"#fdca26\"],[1.0,\"#f0f921\"]]}],\"contourcarpet\":[{\"type\":\"contourcarpet\",\"colorbar\":{\"outlinewidth\":0,\"ticks\":\"\"}}],\"contour\":[{\"type\":\"contour\",\"colorbar\":{\"outlinewidth\":0,\"ticks\":\"\"},\"colorscale\":[[0.0,\"#0d0887\"],[0.1111111111111111,\"#46039f\"],[0.2222222222222222,\"#7201a8\"],[0.3333333333333333,\"#9c179e\"],[0.4444444444444444,\"#bd3786\"],[0.5555555555555556,\"#d8576b\"],[0.6666666666666666,\"#ed7953\"],[0.7777777777777778,\"#fb9f3a\"],[0.8888888888888888,\"#fdca26\"],[1.0,\"#f0f921\"]]}],\"surface\":[{\"type\":\"surface\",\"colorbar\":{\"outlinewidth\":0,\"ticks\":\"\"},\"colorscale\":[[0.0,\"#0d0887\"],[0.1111111111111111,\"#46039f\"],[0.2222222222222222,\"#7201a8\"],[0.3333333333333333,\"#9c179e\"],[0.4444444444444444,\"#bd3786\"],[0.5555555555555556,\"#d8576b\"],[0.6666666666666666,\"#ed7953\"],[0.7777777777777778,\"#fb9f3a\"],[0.8888888888888888,\"#fdca26\"],[1.0,\"#f0f921\"]]}],\"mesh3d\":[{\"type\":\"mesh3d\",\"colorbar\":{\"outlinewidth\":0,\"ticks\":\"\"}}],\"scatter\":[{\"fillpattern\":{\"fillmode\":\"overlay\",\"size\":10,\"solidity\":0.2},\"type\":\"scatter\"}],\"parcoords\":[{\"type\":\"parcoords\",\"line\":{\"colorbar\":{\"outlinewidth\":0,\"ticks\":\"\"}}}],\"scatterpolargl\":[{\"type\":\"scatterpolargl\",\"marker\":{\"colorbar\":{\"outlinewidth\":0,\"ticks\":\"\"}}}],\"bar\":[{\"error_x\":{\"color\":\"#2a3f5f\"},\"error_y\":{\"color\":\"#2a3f5f\"},\"marker\":{\"line\":{\"color\":\"#E5ECF6\",\"width\":0.5},\"pattern\":{\"fillmode\":\"overlay\",\"size\":10,\"solidity\":0.2}},\"type\":\"bar\"}],\"scattergeo\":[{\"type\":\"scattergeo\",\"marker\":{\"colorbar\":{\"outlinewidth\":0,\"ticks\":\"\"}}}],\"scatterpolar\":[{\"type\":\"scatterpolar\",\"marker\":{\"colorbar\":{\"outlinewidth\":0,\"ticks\":\"\"}}}],\"histogram\":[{\"marker\":{\"pattern\":{\"fillmode\":\"overlay\",\"size\":10,\"solidity\":0.2}},\"type\":\"histogram\"}],\"scattergl\":[{\"type\":\"scattergl\",\"marker\":{\"colorbar\":{\"outlinewidth\":0,\"ticks\":\"\"}}}],\"scatter3d\":[{\"type\":\"scatter3d\",\"line\":{\"colorbar\":{\"outlinewidth\":0,\"ticks\":\"\"}},\"marker\":{\"colorbar\":{\"outlinewidth\":0,\"ticks\":\"\"}}}],\"scattermapbox\":[{\"type\":\"scattermapbox\",\"marker\":{\"colorbar\":{\"outlinewidth\":0,\"ticks\":\"\"}}}],\"scatterternary\":[{\"type\":\"scatterternary\",\"marker\":{\"colorbar\":{\"outlinewidth\":0,\"ticks\":\"\"}}}],\"scattercarpet\":[{\"type\":\"scattercarpet\",\"marker\":{\"colorbar\":{\"outlinewidth\":0,\"ticks\":\"\"}}}],\"carpet\":[{\"aaxis\":{\"endlinecolor\":\"#2a3f5f\",\"gridcolor\":\"white\",\"linecolor\":\"white\",\"minorgridcolor\":\"white\",\"startlinecolor\":\"#2a3f5f\"},\"baxis\":{\"endlinecolor\":\"#2a3f5f\",\"gridcolor\":\"white\",\"linecolor\":\"white\",\"minorgridcolor\":\"white\",\"startlinecolor\":\"#2a3f5f\"},\"type\":\"carpet\"}],\"table\":[{\"cells\":{\"fill\":{\"color\":\"#EBF0F8\"},\"line\":{\"color\":\"white\"}},\"header\":{\"fill\":{\"color\":\"#C8D4E3\"},\"line\":{\"color\":\"white\"}},\"type\":\"table\"}],\"barpolar\":[{\"marker\":{\"line\":{\"color\":\"#E5ECF6\",\"width\":0.5},\"pattern\":{\"fillmode\":\"overlay\",\"size\":10,\"solidity\":0.2}},\"type\":\"barpolar\"}],\"pie\":[{\"automargin\":true,\"type\":\"pie\"}]},\"layout\":{\"autotypenumbers\":\"strict\",\"colorway\":[\"#636efa\",\"#EF553B\",\"#00cc96\",\"#ab63fa\",\"#FFA15A\",\"#19d3f3\",\"#FF6692\",\"#B6E880\",\"#FF97FF\",\"#FECB52\"],\"font\":{\"color\":\"#2a3f5f\"},\"hovermode\":\"closest\",\"hoverlabel\":{\"align\":\"left\"},\"paper_bgcolor\":\"white\",\"plot_bgcolor\":\"#E5ECF6\",\"polar\":{\"bgcolor\":\"#E5ECF6\",\"angularaxis\":{\"gridcolor\":\"white\",\"linecolor\":\"white\",\"ticks\":\"\"},\"radialaxis\":{\"gridcolor\":\"white\",\"linecolor\":\"white\",\"ticks\":\"\"}},\"ternary\":{\"bgcolor\":\"#E5ECF6\",\"aaxis\":{\"gridcolor\":\"white\",\"linecolor\":\"white\",\"ticks\":\"\"},\"baxis\":{\"gridcolor\":\"white\",\"linecolor\":\"white\",\"ticks\":\"\"},\"caxis\":{\"gridcolor\":\"white\",\"linecolor\":\"white\",\"ticks\":\"\"}},\"coloraxis\":{\"colorbar\":{\"outlinewidth\":0,\"ticks\":\"\"}},\"colorscale\":{\"sequential\":[[0.0,\"#0d0887\"],[0.1111111111111111,\"#46039f\"],[0.2222222222222222,\"#7201a8\"],[0.3333333333333333,\"#9c179e\"],[0.4444444444444444,\"#bd3786\"],[0.5555555555555556,\"#d8576b\"],[0.6666666666666666,\"#ed7953\"],[0.7777777777777778,\"#fb9f3a\"],[0.8888888888888888,\"#fdca26\"],[1.0,\"#f0f921\"]],\"sequentialminus\":[[0.0,\"#0d0887\"],[0.1111111111111111,\"#46039f\"],[0.2222222222222222,\"#7201a8\"],[0.3333333333333333,\"#9c179e\"],[0.4444444444444444,\"#bd3786\"],[0.5555555555555556,\"#d8576b\"],[0.6666666666666666,\"#ed7953\"],[0.7777777777777778,\"#fb9f3a\"],[0.8888888888888888,\"#fdca26\"],[1.0,\"#f0f921\"]],\"diverging\":[[0,\"#8e0152\"],[0.1,\"#c51b7d\"],[0.2,\"#de77ae\"],[0.3,\"#f1b6da\"],[0.4,\"#fde0ef\"],[0.5,\"#f7f7f7\"],[0.6,\"#e6f5d0\"],[0.7,\"#b8e186\"],[0.8,\"#7fbc41\"],[0.9,\"#4d9221\"],[1,\"#276419\"]]},\"xaxis\":{\"gridcolor\":\"white\",\"linecolor\":\"white\",\"ticks\":\"\",\"title\":{\"standoff\":15},\"zerolinecolor\":\"white\",\"automargin\":true,\"zerolinewidth\":2},\"yaxis\":{\"gridcolor\":\"white\",\"linecolor\":\"white\",\"ticks\":\"\",\"title\":{\"standoff\":15},\"zerolinecolor\":\"white\",\"automargin\":true,\"zerolinewidth\":2},\"scene\":{\"xaxis\":{\"backgroundcolor\":\"#E5ECF6\",\"gridcolor\":\"white\",\"linecolor\":\"white\",\"showbackground\":true,\"ticks\":\"\",\"zerolinecolor\":\"white\",\"gridwidth\":2},\"yaxis\":{\"backgroundcolor\":\"#E5ECF6\",\"gridcolor\":\"white\",\"linecolor\":\"white\",\"showbackground\":true,\"ticks\":\"\",\"zerolinecolor\":\"white\",\"gridwidth\":2},\"zaxis\":{\"backgroundcolor\":\"#E5ECF6\",\"gridcolor\":\"white\",\"linecolor\":\"white\",\"showbackground\":true,\"ticks\":\"\",\"zerolinecolor\":\"white\",\"gridwidth\":2}},\"shapedefaults\":{\"line\":{\"color\":\"#2a3f5f\"}},\"annotationdefaults\":{\"arrowcolor\":\"#2a3f5f\",\"arrowhead\":0,\"arrowwidth\":1},\"geo\":{\"bgcolor\":\"white\",\"landcolor\":\"#E5ECF6\",\"subunitcolor\":\"white\",\"showland\":true,\"showlakes\":true,\"lakecolor\":\"white\"},\"title\":{\"x\":0.05},\"mapbox\":{\"style\":\"light\"}}},\"xaxis\":{\"anchor\":\"y\",\"domain\":[0.0,1.0],\"title\":{\"text\":\"Planned timing (min)\"}},\"yaxis\":{\"anchor\":\"x\",\"domain\":[0.0,1.0],\"title\":{\"text\":\"value\"}},\"legend\":{\"title\":{\"text\":\"variable\"},\"tracegroupgap\":0},\"margin\":{\"t\":60}},                        {\"responsive\": true}                    ).then(function(){\n                            \nvar gd = document.getElementById('88772468-d975-44bd-90bf-dc16930d5184');\nvar x = new MutationObserver(function (mutations, observer) {{\n        var display = window.getComputedStyle(gd).display;\n        if (!display || display === 'none') {{\n            console.log([gd, 'removed!']);\n            Plotly.purge(gd);\n            observer.disconnect();\n        }}\n}});\n\n// Listen for the removal of the full notebook cells\nvar notebookContainer = gd.closest('#notebook-container');\nif (notebookContainer) {{\n    x.observe(notebookContainer, {childList: true});\n}}\n\n// Listen for the clearing of the current output cell\nvar outputEl = gd.closest('.output');\nif (outputEl) {{\n    x.observe(outputEl, {childList: true});\n}}\n\n                        })                };                });            </script>        </div>"
     },
     "metadata": {},
     "output_type": "display_data"
    }
   ],
   "source": [
    "fig = px.line(pID_12, x=\"Planned timing (min)\", y=[\"HeartRate (bpm)\"])\n",
    "fig.show()"
   ],
   "metadata": {
    "collapsed": false
   }
  },
  {
   "cell_type": "markdown",
   "source": [
    "### ploting Pill temps\n"
   ],
   "metadata": {
    "collapsed": false
   }
  },
  {
   "cell_type": "code",
   "execution_count": 34,
   "outputs": [],
   "source": [
    "pID_12_Coretemp  = pd.read_excel(\"../HYP_T_Data Files/HYP_T_12/Core Temp Pill/HYT_P_12 Core Temp Pill.xlsx\")"
   ],
   "metadata": {
    "collapsed": false
   }
  },
  {
   "cell_type": "code",
   "execution_count": 35,
   "outputs": [],
   "source": [
    "colums  = [\"sample_number\", \"date\", \"time\", \"temp\"]"
   ],
   "metadata": {
    "collapsed": false
   }
  },
  {
   "cell_type": "code",
   "execution_count": 36,
   "outputs": [
    {
     "data": {
      "text/plain": "          HYT-12           Unnamed: 1 Unnamed: 2        Unnamed: 3\n0       Pill n°2          22.00.2A.43        NaN               NaN\n1  Sample number     Date(dd/mm/yyyy)       Hour  Temperature (°C)\n2              1  2022-10-28 00:00:00   07:47:48             19.61\n3              2  2022-10-28 00:00:00   07:48:18             19.71\n4              3  2022-10-28 00:00:00   07:48:48             19.88",
      "text/html": "<div>\n<style scoped>\n    .dataframe tbody tr th:only-of-type {\n        vertical-align: middle;\n    }\n\n    .dataframe tbody tr th {\n        vertical-align: top;\n    }\n\n    .dataframe thead th {\n        text-align: right;\n    }\n</style>\n<table border=\"1\" class=\"dataframe\">\n  <thead>\n    <tr style=\"text-align: right;\">\n      <th></th>\n      <th>HYT-12</th>\n      <th>Unnamed: 1</th>\n      <th>Unnamed: 2</th>\n      <th>Unnamed: 3</th>\n    </tr>\n  </thead>\n  <tbody>\n    <tr>\n      <th>0</th>\n      <td>Pill n°2</td>\n      <td>22.00.2A.43</td>\n      <td>NaN</td>\n      <td>NaN</td>\n    </tr>\n    <tr>\n      <th>1</th>\n      <td>Sample number</td>\n      <td>Date(dd/mm/yyyy)</td>\n      <td>Hour</td>\n      <td>Temperature (°C)</td>\n    </tr>\n    <tr>\n      <th>2</th>\n      <td>1</td>\n      <td>2022-10-28 00:00:00</td>\n      <td>07:47:48</td>\n      <td>19.61</td>\n    </tr>\n    <tr>\n      <th>3</th>\n      <td>2</td>\n      <td>2022-10-28 00:00:00</td>\n      <td>07:48:18</td>\n      <td>19.71</td>\n    </tr>\n    <tr>\n      <th>4</th>\n      <td>3</td>\n      <td>2022-10-28 00:00:00</td>\n      <td>07:48:48</td>\n      <td>19.88</td>\n    </tr>\n  </tbody>\n</table>\n</div>"
     },
     "execution_count": 36,
     "metadata": {},
     "output_type": "execute_result"
    }
   ],
   "source": [
    "pID_12_Coretemp.head()"
   ],
   "metadata": {
    "collapsed": false
   }
  },
  {
   "cell_type": "code",
   "execution_count": 37,
   "outputs": [
    {
     "name": "stderr",
     "output_type": "stream",
     "text": [
      "/var/folders/77/8n_hg06n2yg51wffxx1w37ch0000gt/T/ipykernel_14408/1118301575.py:3: FutureWarning:\n",
      "\n",
      "DataFrame.set_axis 'inplace' keyword is deprecated and will be removed in a future version. Use `obj = obj.set_axis(..., copy=False)` instead\n",
      "\n"
     ]
    }
   ],
   "source": [
    "# dropping first 2 rows\n",
    "pID_12_Coretemp = pID_12_Coretemp.iloc[2:]\n",
    "pID_12_Coretemp = pID_12_Coretemp.set_axis(colums, axis=1, inplace=False)\n"
   ],
   "metadata": {
    "collapsed": false
   }
  },
  {
   "cell_type": "code",
   "execution_count": 38,
   "outputs": [
    {
     "data": {
      "text/plain": "  sample_number                 date      time   temp\n2             1  2022-10-28 00:00:00  07:47:48  19.61\n3             2  2022-10-28 00:00:00  07:48:18  19.71\n4             3  2022-10-28 00:00:00  07:48:48  19.88\n5             4  2022-10-28 00:00:00  07:49:18  19.87\n6             5  2022-10-28 00:00:00  07:49:49  19.75",
      "text/html": "<div>\n<style scoped>\n    .dataframe tbody tr th:only-of-type {\n        vertical-align: middle;\n    }\n\n    .dataframe tbody tr th {\n        vertical-align: top;\n    }\n\n    .dataframe thead th {\n        text-align: right;\n    }\n</style>\n<table border=\"1\" class=\"dataframe\">\n  <thead>\n    <tr style=\"text-align: right;\">\n      <th></th>\n      <th>sample_number</th>\n      <th>date</th>\n      <th>time</th>\n      <th>temp</th>\n    </tr>\n  </thead>\n  <tbody>\n    <tr>\n      <th>2</th>\n      <td>1</td>\n      <td>2022-10-28 00:00:00</td>\n      <td>07:47:48</td>\n      <td>19.61</td>\n    </tr>\n    <tr>\n      <th>3</th>\n      <td>2</td>\n      <td>2022-10-28 00:00:00</td>\n      <td>07:48:18</td>\n      <td>19.71</td>\n    </tr>\n    <tr>\n      <th>4</th>\n      <td>3</td>\n      <td>2022-10-28 00:00:00</td>\n      <td>07:48:48</td>\n      <td>19.88</td>\n    </tr>\n    <tr>\n      <th>5</th>\n      <td>4</td>\n      <td>2022-10-28 00:00:00</td>\n      <td>07:49:18</td>\n      <td>19.87</td>\n    </tr>\n    <tr>\n      <th>6</th>\n      <td>5</td>\n      <td>2022-10-28 00:00:00</td>\n      <td>07:49:49</td>\n      <td>19.75</td>\n    </tr>\n  </tbody>\n</table>\n</div>"
     },
     "execution_count": 38,
     "metadata": {},
     "output_type": "execute_result"
    }
   ],
   "source": [
    "pID_12_Coretemp.head()"
   ],
   "metadata": {
    "collapsed": false
   }
  },
  {
   "cell_type": "code",
   "execution_count": 40,
   "outputs": [
    {
     "data": {
      "application/vnd.plotly.v1+json": {
       "data": [
        {
         "hovertemplate": "time=%{x}<br>temp=%{y}<extra></extra>",
         "legendgroup": "",
         "line": {
          "color": "#636efa",
          "dash": "solid"
         },
         "marker": {
          "symbol": "circle"
         },
         "mode": "lines",
         "name": "",
         "orientation": "v",
         "showlegend": false,
         "x": [
          "07:47:48",
          "07:48:18",
          "07:48:48",
          "07:49:18",
          "07:49:49",
          "07:50:19",
          "07:50:49",
          "07:51:19",
          "07:51:49",
          "07:52:20",
          "07:52:50",
          "07:53:20",
          "07:53:50",
          "07:54:20",
          "07:54:50",
          "07:55:21",
          "07:55:51",
          "07:56:21",
          "07:56:51",
          "07:57:21",
          "07:57:52",
          "07:58:22",
          "07:58:52",
          "07:59:22",
          "07:59:52",
          "08:00:23",
          "08:00:53",
          "08:01:23",
          "08:01:53",
          "08:02:23",
          "08:02:54",
          "08:03:24",
          "08:03:54",
          "08:04:24",
          "08:04:54",
          "08:05:25",
          "08:05:55",
          "08:06:25",
          "08:06:55",
          "08:07:25",
          "08:07:56",
          "08:08:26",
          "08:08:56",
          "08:09:26",
          "08:09:56",
          "08:10:27",
          "08:10:57",
          "08:11:27",
          "08:11:57",
          "08:12:27",
          "08:12:58",
          "08:13:28",
          "08:13:58",
          "08:14:28",
          "08:14:58",
          "08:15:28",
          "08:15:59",
          "08:16:29",
          "08:16:59",
          "08:17:29",
          "08:17:59",
          "08:18:30",
          "08:19:00",
          "08:19:30",
          "08:20:00",
          "08:20:30",
          "08:21:00",
          "08:21:31",
          "08:22:01",
          "08:22:31",
          "08:23:01",
          "08:23:31",
          "08:24:02",
          "08:24:32",
          "08:25:02",
          "08:25:32",
          "08:26:02",
          "08:26:32",
          "08:27:03",
          "08:27:33",
          "08:28:03",
          "08:28:33",
          "08:29:03",
          "08:29:34",
          "08:30:04",
          "08:30:34",
          "08:31:04",
          "08:31:34",
          "08:32:05",
          "08:32:35",
          "08:33:05",
          "08:33:35",
          "08:34:05",
          "08:34:35",
          "08:35:06",
          "08:35:36",
          "08:36:06",
          "08:36:36",
          "08:37:06",
          "08:37:36",
          "08:38:07",
          "08:38:37",
          "08:39:07",
          "08:39:37",
          "08:40:07",
          "08:40:37",
          "08:41:08",
          "08:41:38",
          "08:42:08",
          "08:42:38",
          "08:43:08",
          "08:43:38",
          "08:44:08",
          "08:44:39",
          "08:45:09",
          "08:45:39",
          "08:46:09",
          "08:46:39",
          "08:47:10",
          "08:47:40",
          "08:48:10",
          "08:48:40",
          "08:49:10",
          "08:49:41",
          "08:50:11",
          "08:50:41",
          "08:51:11",
          "08:51:42",
          "08:52:12",
          "08:52:42",
          "08:53:12",
          "08:53:42",
          "08:54:12",
          "08:54:42",
          "08:55:13",
          "08:55:43",
          "08:56:13",
          "08:56:43",
          "08:57:13",
          "08:57:44",
          "08:58:14",
          "08:58:44",
          "08:59:14",
          "08:59:44",
          "09:00:15",
          "09:00:45",
          "09:01:15",
          "09:01:45",
          "09:02:15",
          "09:02:46",
          "09:03:16",
          "09:03:46",
          "09:04:16",
          "09:04:46",
          "09:05:17",
          "09:05:47",
          "09:06:17",
          "09:06:47",
          "09:07:17",
          "09:07:47",
          "09:08:18",
          "09:08:48",
          "09:09:18",
          "09:09:48",
          "09:10:18",
          "09:10:49",
          "09:11:19",
          "09:11:49",
          "09:12:19",
          "09:12:49",
          "09:13:19",
          "09:13:50",
          "09:14:20",
          "09:14:50",
          "09:15:20",
          "09:15:50",
          "09:16:21",
          "09:16:51",
          "09:17:21",
          "09:17:51",
          "09:18:21",
          "09:18:51",
          "09:19:22",
          "09:19:52",
          "09:20:22",
          "09:20:52",
          "09:21:22",
          "09:21:53",
          "09:22:23",
          "09:22:53",
          "09:23:23",
          "09:23:53",
          "09:24:24",
          "09:24:54",
          "09:25:24",
          "09:25:54",
          "09:26:24",
          "09:26:55",
          "09:27:25",
          "09:27:55",
          "09:28:25",
          "09:28:55",
          "09:29:25",
          "09:29:56",
          "09:30:26",
          "09:30:56",
          "09:31:26",
          "09:31:56",
          "09:32:27",
          "09:32:57",
          "09:33:27",
          "09:33:57",
          "09:34:27",
          "09:34:58",
          "09:35:28",
          "09:35:58",
          "09:36:28",
          "09:36:58",
          "09:37:29",
          "09:37:59",
          "09:38:29",
          "09:38:59",
          "09:39:29",
          "09:40:00",
          "09:40:30",
          "09:41:00",
          "09:41:30",
          "09:42:00",
          "09:42:31",
          "09:43:01",
          "09:43:31",
          "09:44:01",
          "09:44:31",
          "09:45:01",
          "09:45:32",
          "09:46:02",
          "09:46:32",
          "09:47:02",
          "09:47:32",
          "09:48:03",
          "09:48:33",
          "09:49:03",
          "09:49:33",
          "09:50:03",
          "09:50:33",
          "09:51:03",
          "09:51:33",
          "09:52:03",
          "09:52:33",
          "09:53:03",
          "09:53:33",
          "09:54:03",
          "09:54:33",
          "09:55:03",
          "09:55:33",
          "09:56:03",
          "09:56:33",
          "09:57:03",
          "09:57:33",
          "09:58:03",
          "09:58:33",
          "09:59:03",
          "09:59:33",
          "10:00:03",
          "10:00:33",
          "10:01:03",
          "10:01:33",
          "10:02:03",
          "10:02:33",
          "10:03:03",
          "10:03:33",
          "10:04:03",
          "10:04:33",
          "10:05:03",
          "10:05:33",
          "10:06:03",
          "10:06:33",
          "10:07:03",
          "10:07:33",
          "10:08:03",
          "10:08:33",
          "10:09:03",
          "10:09:33",
          "10:10:03",
          "10:10:33",
          "10:11:03",
          "10:11:33",
          "10:12:03",
          "10:12:33",
          "10:13:03",
          "10:13:33",
          "10:14:03",
          "10:14:33",
          "10:15:03",
          "10:15:33",
          "10:16:03",
          "10:16:33",
          "10:17:03",
          "10:17:33",
          "10:18:03",
          "10:18:33",
          "10:19:03",
          "10:19:33",
          "10:20:03",
          "10:20:33",
          "10:21:03",
          "10:21:33",
          "10:22:03",
          "10:22:33",
          "10:23:03",
          "10:23:33",
          "10:24:03",
          "10:24:33",
          "10:25:03",
          "10:25:33",
          "10:26:03",
          "10:26:33",
          "10:27:03",
          "10:27:33",
          "10:28:03",
          "10:28:33",
          "10:29:03",
          "10:29:33",
          "10:30:03",
          "10:30:33",
          "10:31:03",
          "10:31:33",
          "10:32:03",
          "10:32:33",
          "10:33:03",
          "10:33:33",
          "10:34:03",
          "10:34:33",
          "10:35:03",
          "10:35:33",
          "10:36:03",
          "10:36:33",
          "10:37:03",
          "10:37:33",
          "10:38:03",
          "10:38:33",
          "10:39:03",
          "10:39:33",
          "10:40:03",
          "10:40:33",
          "10:41:03",
          "10:41:33",
          "10:42:03",
          "10:42:33",
          "10:43:03",
          "10:43:33",
          "10:44:03",
          "10:44:33",
          "10:45:03",
          "10:45:33",
          "10:46:03",
          "10:46:33",
          "10:47:03",
          "10:47:33",
          "10:48:03",
          "10:48:33",
          "10:49:03",
          "10:49:33",
          "10:50:03",
          "10:50:33",
          "10:51:03",
          "10:51:33",
          "10:52:03",
          "10:52:33",
          "10:53:03",
          "10:53:33",
          "10:54:03",
          "10:54:33",
          "10:55:03",
          "10:55:33",
          "10:56:03",
          "10:56:33",
          "10:57:03",
          "10:57:33",
          "10:58:03",
          "10:58:33",
          "10:59:03",
          "10:59:33",
          "11:00:03",
          "11:00:33",
          "11:01:03",
          "11:01:33",
          "11:02:03",
          "11:02:33",
          "11:03:03",
          "11:03:33",
          "11:04:03",
          "11:04:33",
          "11:05:03",
          "11:05:33",
          "11:06:03",
          "11:06:33",
          "11:07:03",
          "11:07:33",
          "11:08:03",
          "11:08:33",
          "11:09:03",
          "11:09:33",
          "11:10:03",
          "11:10:33",
          "11:11:03",
          "11:11:33",
          "11:12:03",
          "11:12:33",
          "11:13:03",
          "11:13:33",
          "11:14:03",
          "11:14:33",
          "11:15:03",
          "11:15:33",
          "11:16:03",
          "11:16:33",
          "11:17:03",
          "11:17:33",
          "11:18:03",
          "11:18:33",
          "11:19:03",
          "11:19:33",
          "11:20:03",
          "11:20:33",
          "11:21:03",
          "11:21:33",
          "11:22:03",
          "11:22:33",
          "11:23:03",
          "11:23:33",
          "11:24:02",
          "11:24:32",
          "11:25:02",
          "11:25:32",
          "11:26:02",
          "11:26:32",
          "11:27:02",
          "11:27:32",
          "11:28:02",
          "11:28:32",
          "11:29:02",
          "11:29:32",
          "11:30:02",
          "11:30:32",
          "11:31:02",
          "11:31:32",
          "11:32:02",
          "11:32:32",
          "11:33:02",
          "11:33:32",
          "11:34:02",
          "11:34:32",
          "11:35:02",
          "11:35:32",
          "11:36:02",
          "11:36:32",
          "11:37:02",
          "11:37:32",
          "11:38:02",
          "11:38:32",
          "11:39:02",
          "11:39:32",
          "11:40:02",
          "11:40:32",
          "11:41:02",
          "11:41:32",
          "11:42:02",
          "11:42:32",
          "11:43:02",
          "11:43:32",
          "11:44:02",
          "11:44:32",
          "11:45:02",
          "11:45:32",
          "11:46:02",
          "11:46:32",
          "11:47:02",
          "11:47:32",
          "11:48:02",
          "11:48:32",
          "11:49:02",
          "11:49:32",
          "11:50:02",
          "11:50:32",
          "11:51:02",
          "11:51:32",
          "11:52:02",
          "11:52:32",
          "11:53:02",
          "11:53:32",
          "11:54:02",
          "11:54:32",
          "11:55:02",
          "11:55:32",
          "11:56:02",
          "11:56:32",
          "11:57:02",
          "11:57:32",
          "11:58:02",
          "11:58:32",
          "11:59:02",
          "11:59:32",
          "12:00:02",
          "12:00:32",
          "12:01:02"
         ],
         "xaxis": "x",
         "y": [
          19.61,
          19.71,
          19.88,
          19.87,
          19.75,
          19.67,
          19.57,
          19.5,
          19.41,
          19.36,
          19.3,
          19.26,
          19.24,
          19.21,
          19.18,
          19.15,
          19.14,
          19.11,
          19.1,
          19.1,
          19.08,
          19.07,
          19.08,
          19.07,
          19.03,
          19.05,
          19.07,
          19.06,
          19.02,
          19.03,
          19.03,
          19.06,
          19.05,
          19.06,
          19.05,
          19.03,
          19.05,
          19.07,
          19.05,
          19.06,
          19.02,
          19.03,
          19.06,
          19.05,
          19.07,
          19.07,
          19.07,
          19.05,
          19.06,
          19.06,
          19.07,
          19.06,
          19.06,
          19.07,
          19.07,
          19.08,
          19.08,
          19.08,
          19.09,
          19.07,
          19.09,
          19.08,
          19.09,
          19.1,
          19.1,
          19.11,
          19.1,
          19.1,
          19.14,
          19.12,
          19.12,
          19.13,
          19.12,
          19.12,
          19.14,
          19.11,
          19.14,
          19.15,
          19.13,
          19.15,
          19.16,
          19.17,
          19.18,
          19.18,
          19.15,
          19.17,
          19.16,
          19.17,
          19.17,
          19.18,
          19.2,
          19.21,
          19.22,
          19.22,
          19.24,
          19.23,
          19.26,
          19.28,
          19.27,
          19.31,
          19.31,
          19.31,
          19.58,
          20.25,
          20.68,
          20.87,
          20.98,
          21.27,
          21.28,
          21.1,
          20.96,
          20.8,
          20.69,
          20.55,
          20.44,
          20.34,
          20.25,
          20.16,
          20.09,
          20.03,
          19.94,
          19.89,
          19.87,
          20.86,
          21.95,
          22.05,
          21.76,
          21.46,
          21.2,
          20.99,
          20.8,
          20.62,
          20.48,
          20.37,
          20.25,
          20.14,
          20.07,
          19.98,
          19.91,
          19.85,
          19.81,
          19.77,
          19.72,
          19.69,
          19.62,
          19.61,
          19.61,
          19.61,
          19.6,
          19.57,
          19.57,
          19.54,
          19.56,
          19.52,
          19.52,
          19.52,
          19.5,
          19.51,
          19.48,
          19.52,
          19.52,
          19.52,
          19.51,
          19.51,
          19.48,
          19.48,
          19.47,
          19.48,
          19.48,
          19.51,
          19.48,
          19.47,
          19.51,
          19.51,
          19.48,
          19.48,
          19.5,
          19.52,
          19.5,
          19.48,
          19.48,
          19.47,
          19.5,
          19.46,
          19.48,
          19.48,
          19.48,
          19.48,
          19.52,
          19.55,
          19.54,
          19.53,
          19.54,
          19.54,
          19.54,
          19.55,
          19.52,
          19.53,
          19.55,
          19.53,
          19.54,
          19.56,
          19.57,
          19.56,
          19.58,
          19.6,
          19.59,
          19.6,
          19.67,
          19.68,
          19.72,
          19.73,
          19.76,
          19.81,
          19.83,
          19.85,
          19.88,
          19.88,
          19.91,
          19.94,
          19.97,
          19.98,
          20.01,
          20.01,
          20.04,
          20.06,
          20.07,
          20.09,
          20.11,
          20.12,
          20.14,
          20.14,
          20.16,
          20.18,
          20.19,
          20.2,
          20.2,
          20.24,
          20.21,
          20.22,
          20.53,
          21.17,
          25.51,
          32.33,
          34.77,
          35.66,
          36.19,
          36.46,
          36.6,
          36.64,
          36.68,
          36.71,
          36.71,
          36.73,
          36.74,
          36.77,
          36.76,
          36.77,
          36.75,
          36.77,
          36.82,
          36.82,
          36.81,
          36.83,
          36.83,
          36.82,
          36.85,
          36.83,
          36.84,
          36.84,
          36.87,
          36.82,
          36.87,
          36.85,
          36.89,
          36.87,
          36.89,
          36.87,
          36.89,
          36.9,
          36.89,
          36.89,
          36.9,
          36.91,
          36.89,
          36.91,
          36.91,
          36.91,
          36.93,
          36.92,
          36.93,
          36.95,
          36.97,
          36.99,
          36.97,
          36.97,
          36.98,
          36.99,
          37,
          37.01,
          37.04,
          37.01,
          37.03,
          37.02,
          37.03,
          37.04,
          37.05,
          37.07,
          37.07,
          37.05,
          37.05,
          37.07,
          37.07,
          37.07,
          37.1,
          37.1,
          37.08,
          37.1,
          37.11,
          37.1,
          37.11,
          37.12,
          37.14,
          37.12,
          37.15,
          37.15,
          37.16,
          37.16,
          37.16,
          37.17,
          37.18,
          37.19,
          37.19,
          37.19,
          37.2,
          37.2,
          37.19,
          37.19,
          37.23,
          37.21,
          37.26,
          37.23,
          37.22,
          37.25,
          37.25,
          37.28,
          37.29,
          37.3,
          37.28,
          37.29,
          37.31,
          37.3,
          37.31,
          37.3,
          37.31,
          37.31,
          37.31,
          37.3,
          37.31,
          37.29,
          37.29,
          37.29,
          37.28,
          37.28,
          37.31,
          37.28,
          37.29,
          37.31,
          37.3,
          37.28,
          37.31,
          37.3,
          37.29,
          37.31,
          37.3,
          37.31,
          37.29,
          37.29,
          37.29,
          37.3,
          37.28,
          37.29,
          37.29,
          37.29,
          37.3,
          37.28,
          37.28,
          37.28,
          37.25,
          37.28,
          37.28,
          37.28,
          37.27,
          37.25,
          37.26,
          37.25,
          37.25,
          37.25,
          37.27,
          37.23,
          37.25,
          37.26,
          37.25,
          37.25,
          37.25,
          37.23,
          37.25,
          37.23,
          37.22,
          37.21,
          37.21,
          37.25,
          37.23,
          37.21,
          37.25,
          37.22,
          37.25,
          37.2,
          37.23,
          37.21,
          37.23,
          37.21,
          37.2,
          37.21,
          37.2,
          37.22,
          37.21,
          37.21,
          37.19,
          37.18,
          37.17,
          37.17,
          37.17,
          37.16,
          37.15,
          37.15,
          37.15,
          37.14,
          37.15,
          37.15,
          37.15,
          37.15,
          37.15,
          37.16,
          37.15,
          37.15,
          37.16,
          37.14,
          37.14,
          37.13,
          37.15,
          37.14,
          37.14,
          37.16,
          37.12,
          37.14,
          37.14,
          37.15,
          37.16,
          37.16,
          37.15,
          37.17,
          37.17,
          37.17,
          37.16,
          37.15,
          37.17,
          37.14,
          37.15,
          37.14,
          37.13,
          37.15,
          37.2,
          37.22,
          37.25,
          37.23,
          37.25,
          37.23,
          37.23,
          37.26,
          37.25,
          37.27,
          37.23,
          37.23,
          37.26,
          37.25,
          37.23,
          null,
          37.26,
          null,
          null,
          null,
          null,
          null,
          null,
          null,
          null,
          null,
          36.64,
          null,
          null,
          null,
          null,
          37.18,
          null,
          37.26
         ],
         "yaxis": "y",
         "type": "scatter"
        }
       ],
       "layout": {
        "template": {
         "data": {
          "histogram2dcontour": [
           {
            "type": "histogram2dcontour",
            "colorbar": {
             "outlinewidth": 0,
             "ticks": ""
            },
            "colorscale": [
             [
              0.0,
              "#0d0887"
             ],
             [
              0.1111111111111111,
              "#46039f"
             ],
             [
              0.2222222222222222,
              "#7201a8"
             ],
             [
              0.3333333333333333,
              "#9c179e"
             ],
             [
              0.4444444444444444,
              "#bd3786"
             ],
             [
              0.5555555555555556,
              "#d8576b"
             ],
             [
              0.6666666666666666,
              "#ed7953"
             ],
             [
              0.7777777777777778,
              "#fb9f3a"
             ],
             [
              0.8888888888888888,
              "#fdca26"
             ],
             [
              1.0,
              "#f0f921"
             ]
            ]
           }
          ],
          "choropleth": [
           {
            "type": "choropleth",
            "colorbar": {
             "outlinewidth": 0,
             "ticks": ""
            }
           }
          ],
          "histogram2d": [
           {
            "type": "histogram2d",
            "colorbar": {
             "outlinewidth": 0,
             "ticks": ""
            },
            "colorscale": [
             [
              0.0,
              "#0d0887"
             ],
             [
              0.1111111111111111,
              "#46039f"
             ],
             [
              0.2222222222222222,
              "#7201a8"
             ],
             [
              0.3333333333333333,
              "#9c179e"
             ],
             [
              0.4444444444444444,
              "#bd3786"
             ],
             [
              0.5555555555555556,
              "#d8576b"
             ],
             [
              0.6666666666666666,
              "#ed7953"
             ],
             [
              0.7777777777777778,
              "#fb9f3a"
             ],
             [
              0.8888888888888888,
              "#fdca26"
             ],
             [
              1.0,
              "#f0f921"
             ]
            ]
           }
          ],
          "heatmap": [
           {
            "type": "heatmap",
            "colorbar": {
             "outlinewidth": 0,
             "ticks": ""
            },
            "colorscale": [
             [
              0.0,
              "#0d0887"
             ],
             [
              0.1111111111111111,
              "#46039f"
             ],
             [
              0.2222222222222222,
              "#7201a8"
             ],
             [
              0.3333333333333333,
              "#9c179e"
             ],
             [
              0.4444444444444444,
              "#bd3786"
             ],
             [
              0.5555555555555556,
              "#d8576b"
             ],
             [
              0.6666666666666666,
              "#ed7953"
             ],
             [
              0.7777777777777778,
              "#fb9f3a"
             ],
             [
              0.8888888888888888,
              "#fdca26"
             ],
             [
              1.0,
              "#f0f921"
             ]
            ]
           }
          ],
          "heatmapgl": [
           {
            "type": "heatmapgl",
            "colorbar": {
             "outlinewidth": 0,
             "ticks": ""
            },
            "colorscale": [
             [
              0.0,
              "#0d0887"
             ],
             [
              0.1111111111111111,
              "#46039f"
             ],
             [
              0.2222222222222222,
              "#7201a8"
             ],
             [
              0.3333333333333333,
              "#9c179e"
             ],
             [
              0.4444444444444444,
              "#bd3786"
             ],
             [
              0.5555555555555556,
              "#d8576b"
             ],
             [
              0.6666666666666666,
              "#ed7953"
             ],
             [
              0.7777777777777778,
              "#fb9f3a"
             ],
             [
              0.8888888888888888,
              "#fdca26"
             ],
             [
              1.0,
              "#f0f921"
             ]
            ]
           }
          ],
          "contourcarpet": [
           {
            "type": "contourcarpet",
            "colorbar": {
             "outlinewidth": 0,
             "ticks": ""
            }
           }
          ],
          "contour": [
           {
            "type": "contour",
            "colorbar": {
             "outlinewidth": 0,
             "ticks": ""
            },
            "colorscale": [
             [
              0.0,
              "#0d0887"
             ],
             [
              0.1111111111111111,
              "#46039f"
             ],
             [
              0.2222222222222222,
              "#7201a8"
             ],
             [
              0.3333333333333333,
              "#9c179e"
             ],
             [
              0.4444444444444444,
              "#bd3786"
             ],
             [
              0.5555555555555556,
              "#d8576b"
             ],
             [
              0.6666666666666666,
              "#ed7953"
             ],
             [
              0.7777777777777778,
              "#fb9f3a"
             ],
             [
              0.8888888888888888,
              "#fdca26"
             ],
             [
              1.0,
              "#f0f921"
             ]
            ]
           }
          ],
          "surface": [
           {
            "type": "surface",
            "colorbar": {
             "outlinewidth": 0,
             "ticks": ""
            },
            "colorscale": [
             [
              0.0,
              "#0d0887"
             ],
             [
              0.1111111111111111,
              "#46039f"
             ],
             [
              0.2222222222222222,
              "#7201a8"
             ],
             [
              0.3333333333333333,
              "#9c179e"
             ],
             [
              0.4444444444444444,
              "#bd3786"
             ],
             [
              0.5555555555555556,
              "#d8576b"
             ],
             [
              0.6666666666666666,
              "#ed7953"
             ],
             [
              0.7777777777777778,
              "#fb9f3a"
             ],
             [
              0.8888888888888888,
              "#fdca26"
             ],
             [
              1.0,
              "#f0f921"
             ]
            ]
           }
          ],
          "mesh3d": [
           {
            "type": "mesh3d",
            "colorbar": {
             "outlinewidth": 0,
             "ticks": ""
            }
           }
          ],
          "scatter": [
           {
            "fillpattern": {
             "fillmode": "overlay",
             "size": 10,
             "solidity": 0.2
            },
            "type": "scatter"
           }
          ],
          "parcoords": [
           {
            "type": "parcoords",
            "line": {
             "colorbar": {
              "outlinewidth": 0,
              "ticks": ""
             }
            }
           }
          ],
          "scatterpolargl": [
           {
            "type": "scatterpolargl",
            "marker": {
             "colorbar": {
              "outlinewidth": 0,
              "ticks": ""
             }
            }
           }
          ],
          "bar": [
           {
            "error_x": {
             "color": "#2a3f5f"
            },
            "error_y": {
             "color": "#2a3f5f"
            },
            "marker": {
             "line": {
              "color": "#E5ECF6",
              "width": 0.5
             },
             "pattern": {
              "fillmode": "overlay",
              "size": 10,
              "solidity": 0.2
             }
            },
            "type": "bar"
           }
          ],
          "scattergeo": [
           {
            "type": "scattergeo",
            "marker": {
             "colorbar": {
              "outlinewidth": 0,
              "ticks": ""
             }
            }
           }
          ],
          "scatterpolar": [
           {
            "type": "scatterpolar",
            "marker": {
             "colorbar": {
              "outlinewidth": 0,
              "ticks": ""
             }
            }
           }
          ],
          "histogram": [
           {
            "marker": {
             "pattern": {
              "fillmode": "overlay",
              "size": 10,
              "solidity": 0.2
             }
            },
            "type": "histogram"
           }
          ],
          "scattergl": [
           {
            "type": "scattergl",
            "marker": {
             "colorbar": {
              "outlinewidth": 0,
              "ticks": ""
             }
            }
           }
          ],
          "scatter3d": [
           {
            "type": "scatter3d",
            "line": {
             "colorbar": {
              "outlinewidth": 0,
              "ticks": ""
             }
            },
            "marker": {
             "colorbar": {
              "outlinewidth": 0,
              "ticks": ""
             }
            }
           }
          ],
          "scattermapbox": [
           {
            "type": "scattermapbox",
            "marker": {
             "colorbar": {
              "outlinewidth": 0,
              "ticks": ""
             }
            }
           }
          ],
          "scatterternary": [
           {
            "type": "scatterternary",
            "marker": {
             "colorbar": {
              "outlinewidth": 0,
              "ticks": ""
             }
            }
           }
          ],
          "scattercarpet": [
           {
            "type": "scattercarpet",
            "marker": {
             "colorbar": {
              "outlinewidth": 0,
              "ticks": ""
             }
            }
           }
          ],
          "carpet": [
           {
            "aaxis": {
             "endlinecolor": "#2a3f5f",
             "gridcolor": "white",
             "linecolor": "white",
             "minorgridcolor": "white",
             "startlinecolor": "#2a3f5f"
            },
            "baxis": {
             "endlinecolor": "#2a3f5f",
             "gridcolor": "white",
             "linecolor": "white",
             "minorgridcolor": "white",
             "startlinecolor": "#2a3f5f"
            },
            "type": "carpet"
           }
          ],
          "table": [
           {
            "cells": {
             "fill": {
              "color": "#EBF0F8"
             },
             "line": {
              "color": "white"
             }
            },
            "header": {
             "fill": {
              "color": "#C8D4E3"
             },
             "line": {
              "color": "white"
             }
            },
            "type": "table"
           }
          ],
          "barpolar": [
           {
            "marker": {
             "line": {
              "color": "#E5ECF6",
              "width": 0.5
             },
             "pattern": {
              "fillmode": "overlay",
              "size": 10,
              "solidity": 0.2
             }
            },
            "type": "barpolar"
           }
          ],
          "pie": [
           {
            "automargin": true,
            "type": "pie"
           }
          ]
         },
         "layout": {
          "autotypenumbers": "strict",
          "colorway": [
           "#636efa",
           "#EF553B",
           "#00cc96",
           "#ab63fa",
           "#FFA15A",
           "#19d3f3",
           "#FF6692",
           "#B6E880",
           "#FF97FF",
           "#FECB52"
          ],
          "font": {
           "color": "#2a3f5f"
          },
          "hovermode": "closest",
          "hoverlabel": {
           "align": "left"
          },
          "paper_bgcolor": "white",
          "plot_bgcolor": "#E5ECF6",
          "polar": {
           "bgcolor": "#E5ECF6",
           "angularaxis": {
            "gridcolor": "white",
            "linecolor": "white",
            "ticks": ""
           },
           "radialaxis": {
            "gridcolor": "white",
            "linecolor": "white",
            "ticks": ""
           }
          },
          "ternary": {
           "bgcolor": "#E5ECF6",
           "aaxis": {
            "gridcolor": "white",
            "linecolor": "white",
            "ticks": ""
           },
           "baxis": {
            "gridcolor": "white",
            "linecolor": "white",
            "ticks": ""
           },
           "caxis": {
            "gridcolor": "white",
            "linecolor": "white",
            "ticks": ""
           }
          },
          "coloraxis": {
           "colorbar": {
            "outlinewidth": 0,
            "ticks": ""
           }
          },
          "colorscale": {
           "sequential": [
            [
             0.0,
             "#0d0887"
            ],
            [
             0.1111111111111111,
             "#46039f"
            ],
            [
             0.2222222222222222,
             "#7201a8"
            ],
            [
             0.3333333333333333,
             "#9c179e"
            ],
            [
             0.4444444444444444,
             "#bd3786"
            ],
            [
             0.5555555555555556,
             "#d8576b"
            ],
            [
             0.6666666666666666,
             "#ed7953"
            ],
            [
             0.7777777777777778,
             "#fb9f3a"
            ],
            [
             0.8888888888888888,
             "#fdca26"
            ],
            [
             1.0,
             "#f0f921"
            ]
           ],
           "sequentialminus": [
            [
             0.0,
             "#0d0887"
            ],
            [
             0.1111111111111111,
             "#46039f"
            ],
            [
             0.2222222222222222,
             "#7201a8"
            ],
            [
             0.3333333333333333,
             "#9c179e"
            ],
            [
             0.4444444444444444,
             "#bd3786"
            ],
            [
             0.5555555555555556,
             "#d8576b"
            ],
            [
             0.6666666666666666,
             "#ed7953"
            ],
            [
             0.7777777777777778,
             "#fb9f3a"
            ],
            [
             0.8888888888888888,
             "#fdca26"
            ],
            [
             1.0,
             "#f0f921"
            ]
           ],
           "diverging": [
            [
             0,
             "#8e0152"
            ],
            [
             0.1,
             "#c51b7d"
            ],
            [
             0.2,
             "#de77ae"
            ],
            [
             0.3,
             "#f1b6da"
            ],
            [
             0.4,
             "#fde0ef"
            ],
            [
             0.5,
             "#f7f7f7"
            ],
            [
             0.6,
             "#e6f5d0"
            ],
            [
             0.7,
             "#b8e186"
            ],
            [
             0.8,
             "#7fbc41"
            ],
            [
             0.9,
             "#4d9221"
            ],
            [
             1,
             "#276419"
            ]
           ]
          },
          "xaxis": {
           "gridcolor": "white",
           "linecolor": "white",
           "ticks": "",
           "title": {
            "standoff": 15
           },
           "zerolinecolor": "white",
           "automargin": true,
           "zerolinewidth": 2
          },
          "yaxis": {
           "gridcolor": "white",
           "linecolor": "white",
           "ticks": "",
           "title": {
            "standoff": 15
           },
           "zerolinecolor": "white",
           "automargin": true,
           "zerolinewidth": 2
          },
          "scene": {
           "xaxis": {
            "backgroundcolor": "#E5ECF6",
            "gridcolor": "white",
            "linecolor": "white",
            "showbackground": true,
            "ticks": "",
            "zerolinecolor": "white",
            "gridwidth": 2
           },
           "yaxis": {
            "backgroundcolor": "#E5ECF6",
            "gridcolor": "white",
            "linecolor": "white",
            "showbackground": true,
            "ticks": "",
            "zerolinecolor": "white",
            "gridwidth": 2
           },
           "zaxis": {
            "backgroundcolor": "#E5ECF6",
            "gridcolor": "white",
            "linecolor": "white",
            "showbackground": true,
            "ticks": "",
            "zerolinecolor": "white",
            "gridwidth": 2
           }
          },
          "shapedefaults": {
           "line": {
            "color": "#2a3f5f"
           }
          },
          "annotationdefaults": {
           "arrowcolor": "#2a3f5f",
           "arrowhead": 0,
           "arrowwidth": 1
          },
          "geo": {
           "bgcolor": "white",
           "landcolor": "#E5ECF6",
           "subunitcolor": "white",
           "showland": true,
           "showlakes": true,
           "lakecolor": "white"
          },
          "title": {
           "x": 0.05
          },
          "mapbox": {
           "style": "light"
          }
         }
        },
        "xaxis": {
         "anchor": "y",
         "domain": [
          0.0,
          1.0
         ],
         "title": {
          "text": "time"
         }
        },
        "yaxis": {
         "anchor": "x",
         "domain": [
          0.0,
          1.0
         ],
         "title": {
          "text": "temp"
         }
        },
        "legend": {
         "tracegroupgap": 0
        },
        "margin": {
         "t": 60
        }
       },
       "config": {
        "plotlyServerURL": "https://plot.ly"
       }
      },
      "text/html": "<div>                            <div id=\"97b7cb1c-adb0-4909-ae51-76cce73ee611\" class=\"plotly-graph-div\" style=\"height:525px; width:100%;\"></div>            <script type=\"text/javascript\">                require([\"plotly\"], function(Plotly) {                    window.PLOTLYENV=window.PLOTLYENV || {};                                    if (document.getElementById(\"97b7cb1c-adb0-4909-ae51-76cce73ee611\")) {                    Plotly.newPlot(                        \"97b7cb1c-adb0-4909-ae51-76cce73ee611\",                        [{\"hovertemplate\":\"time=%{x}<br>temp=%{y}<extra></extra>\",\"legendgroup\":\"\",\"line\":{\"color\":\"#636efa\",\"dash\":\"solid\"},\"marker\":{\"symbol\":\"circle\"},\"mode\":\"lines\",\"name\":\"\",\"orientation\":\"v\",\"showlegend\":false,\"x\":[\"07:47:48\",\"07:48:18\",\"07:48:48\",\"07:49:18\",\"07:49:49\",\"07:50:19\",\"07:50:49\",\"07:51:19\",\"07:51:49\",\"07:52:20\",\"07:52:50\",\"07:53:20\",\"07:53:50\",\"07:54:20\",\"07:54:50\",\"07:55:21\",\"07:55:51\",\"07:56:21\",\"07:56:51\",\"07:57:21\",\"07:57:52\",\"07:58:22\",\"07:58:52\",\"07:59:22\",\"07:59:52\",\"08:00:23\",\"08:00:53\",\"08:01:23\",\"08:01:53\",\"08:02:23\",\"08:02:54\",\"08:03:24\",\"08:03:54\",\"08:04:24\",\"08:04:54\",\"08:05:25\",\"08:05:55\",\"08:06:25\",\"08:06:55\",\"08:07:25\",\"08:07:56\",\"08:08:26\",\"08:08:56\",\"08:09:26\",\"08:09:56\",\"08:10:27\",\"08:10:57\",\"08:11:27\",\"08:11:57\",\"08:12:27\",\"08:12:58\",\"08:13:28\",\"08:13:58\",\"08:14:28\",\"08:14:58\",\"08:15:28\",\"08:15:59\",\"08:16:29\",\"08:16:59\",\"08:17:29\",\"08:17:59\",\"08:18:30\",\"08:19:00\",\"08:19:30\",\"08:20:00\",\"08:20:30\",\"08:21:00\",\"08:21:31\",\"08:22:01\",\"08:22:31\",\"08:23:01\",\"08:23:31\",\"08:24:02\",\"08:24:32\",\"08:25:02\",\"08:25:32\",\"08:26:02\",\"08:26:32\",\"08:27:03\",\"08:27:33\",\"08:28:03\",\"08:28:33\",\"08:29:03\",\"08:29:34\",\"08:30:04\",\"08:30:34\",\"08:31:04\",\"08:31:34\",\"08:32:05\",\"08:32:35\",\"08:33:05\",\"08:33:35\",\"08:34:05\",\"08:34:35\",\"08:35:06\",\"08:35:36\",\"08:36:06\",\"08:36:36\",\"08:37:06\",\"08:37:36\",\"08:38:07\",\"08:38:37\",\"08:39:07\",\"08:39:37\",\"08:40:07\",\"08:40:37\",\"08:41:08\",\"08:41:38\",\"08:42:08\",\"08:42:38\",\"08:43:08\",\"08:43:38\",\"08:44:08\",\"08:44:39\",\"08:45:09\",\"08:45:39\",\"08:46:09\",\"08:46:39\",\"08:47:10\",\"08:47:40\",\"08:48:10\",\"08:48:40\",\"08:49:10\",\"08:49:41\",\"08:50:11\",\"08:50:41\",\"08:51:11\",\"08:51:42\",\"08:52:12\",\"08:52:42\",\"08:53:12\",\"08:53:42\",\"08:54:12\",\"08:54:42\",\"08:55:13\",\"08:55:43\",\"08:56:13\",\"08:56:43\",\"08:57:13\",\"08:57:44\",\"08:58:14\",\"08:58:44\",\"08:59:14\",\"08:59:44\",\"09:00:15\",\"09:00:45\",\"09:01:15\",\"09:01:45\",\"09:02:15\",\"09:02:46\",\"09:03:16\",\"09:03:46\",\"09:04:16\",\"09:04:46\",\"09:05:17\",\"09:05:47\",\"09:06:17\",\"09:06:47\",\"09:07:17\",\"09:07:47\",\"09:08:18\",\"09:08:48\",\"09:09:18\",\"09:09:48\",\"09:10:18\",\"09:10:49\",\"09:11:19\",\"09:11:49\",\"09:12:19\",\"09:12:49\",\"09:13:19\",\"09:13:50\",\"09:14:20\",\"09:14:50\",\"09:15:20\",\"09:15:50\",\"09:16:21\",\"09:16:51\",\"09:17:21\",\"09:17:51\",\"09:18:21\",\"09:18:51\",\"09:19:22\",\"09:19:52\",\"09:20:22\",\"09:20:52\",\"09:21:22\",\"09:21:53\",\"09:22:23\",\"09:22:53\",\"09:23:23\",\"09:23:53\",\"09:24:24\",\"09:24:54\",\"09:25:24\",\"09:25:54\",\"09:26:24\",\"09:26:55\",\"09:27:25\",\"09:27:55\",\"09:28:25\",\"09:28:55\",\"09:29:25\",\"09:29:56\",\"09:30:26\",\"09:30:56\",\"09:31:26\",\"09:31:56\",\"09:32:27\",\"09:32:57\",\"09:33:27\",\"09:33:57\",\"09:34:27\",\"09:34:58\",\"09:35:28\",\"09:35:58\",\"09:36:28\",\"09:36:58\",\"09:37:29\",\"09:37:59\",\"09:38:29\",\"09:38:59\",\"09:39:29\",\"09:40:00\",\"09:40:30\",\"09:41:00\",\"09:41:30\",\"09:42:00\",\"09:42:31\",\"09:43:01\",\"09:43:31\",\"09:44:01\",\"09:44:31\",\"09:45:01\",\"09:45:32\",\"09:46:02\",\"09:46:32\",\"09:47:02\",\"09:47:32\",\"09:48:03\",\"09:48:33\",\"09:49:03\",\"09:49:33\",\"09:50:03\",\"09:50:33\",\"09:51:03\",\"09:51:33\",\"09:52:03\",\"09:52:33\",\"09:53:03\",\"09:53:33\",\"09:54:03\",\"09:54:33\",\"09:55:03\",\"09:55:33\",\"09:56:03\",\"09:56:33\",\"09:57:03\",\"09:57:33\",\"09:58:03\",\"09:58:33\",\"09:59:03\",\"09:59:33\",\"10:00:03\",\"10:00:33\",\"10:01:03\",\"10:01:33\",\"10:02:03\",\"10:02:33\",\"10:03:03\",\"10:03:33\",\"10:04:03\",\"10:04:33\",\"10:05:03\",\"10:05:33\",\"10:06:03\",\"10:06:33\",\"10:07:03\",\"10:07:33\",\"10:08:03\",\"10:08:33\",\"10:09:03\",\"10:09:33\",\"10:10:03\",\"10:10:33\",\"10:11:03\",\"10:11:33\",\"10:12:03\",\"10:12:33\",\"10:13:03\",\"10:13:33\",\"10:14:03\",\"10:14:33\",\"10:15:03\",\"10:15:33\",\"10:16:03\",\"10:16:33\",\"10:17:03\",\"10:17:33\",\"10:18:03\",\"10:18:33\",\"10:19:03\",\"10:19:33\",\"10:20:03\",\"10:20:33\",\"10:21:03\",\"10:21:33\",\"10:22:03\",\"10:22:33\",\"10:23:03\",\"10:23:33\",\"10:24:03\",\"10:24:33\",\"10:25:03\",\"10:25:33\",\"10:26:03\",\"10:26:33\",\"10:27:03\",\"10:27:33\",\"10:28:03\",\"10:28:33\",\"10:29:03\",\"10:29:33\",\"10:30:03\",\"10:30:33\",\"10:31:03\",\"10:31:33\",\"10:32:03\",\"10:32:33\",\"10:33:03\",\"10:33:33\",\"10:34:03\",\"10:34:33\",\"10:35:03\",\"10:35:33\",\"10:36:03\",\"10:36:33\",\"10:37:03\",\"10:37:33\",\"10:38:03\",\"10:38:33\",\"10:39:03\",\"10:39:33\",\"10:40:03\",\"10:40:33\",\"10:41:03\",\"10:41:33\",\"10:42:03\",\"10:42:33\",\"10:43:03\",\"10:43:33\",\"10:44:03\",\"10:44:33\",\"10:45:03\",\"10:45:33\",\"10:46:03\",\"10:46:33\",\"10:47:03\",\"10:47:33\",\"10:48:03\",\"10:48:33\",\"10:49:03\",\"10:49:33\",\"10:50:03\",\"10:50:33\",\"10:51:03\",\"10:51:33\",\"10:52:03\",\"10:52:33\",\"10:53:03\",\"10:53:33\",\"10:54:03\",\"10:54:33\",\"10:55:03\",\"10:55:33\",\"10:56:03\",\"10:56:33\",\"10:57:03\",\"10:57:33\",\"10:58:03\",\"10:58:33\",\"10:59:03\",\"10:59:33\",\"11:00:03\",\"11:00:33\",\"11:01:03\",\"11:01:33\",\"11:02:03\",\"11:02:33\",\"11:03:03\",\"11:03:33\",\"11:04:03\",\"11:04:33\",\"11:05:03\",\"11:05:33\",\"11:06:03\",\"11:06:33\",\"11:07:03\",\"11:07:33\",\"11:08:03\",\"11:08:33\",\"11:09:03\",\"11:09:33\",\"11:10:03\",\"11:10:33\",\"11:11:03\",\"11:11:33\",\"11:12:03\",\"11:12:33\",\"11:13:03\",\"11:13:33\",\"11:14:03\",\"11:14:33\",\"11:15:03\",\"11:15:33\",\"11:16:03\",\"11:16:33\",\"11:17:03\",\"11:17:33\",\"11:18:03\",\"11:18:33\",\"11:19:03\",\"11:19:33\",\"11:20:03\",\"11:20:33\",\"11:21:03\",\"11:21:33\",\"11:22:03\",\"11:22:33\",\"11:23:03\",\"11:23:33\",\"11:24:02\",\"11:24:32\",\"11:25:02\",\"11:25:32\",\"11:26:02\",\"11:26:32\",\"11:27:02\",\"11:27:32\",\"11:28:02\",\"11:28:32\",\"11:29:02\",\"11:29:32\",\"11:30:02\",\"11:30:32\",\"11:31:02\",\"11:31:32\",\"11:32:02\",\"11:32:32\",\"11:33:02\",\"11:33:32\",\"11:34:02\",\"11:34:32\",\"11:35:02\",\"11:35:32\",\"11:36:02\",\"11:36:32\",\"11:37:02\",\"11:37:32\",\"11:38:02\",\"11:38:32\",\"11:39:02\",\"11:39:32\",\"11:40:02\",\"11:40:32\",\"11:41:02\",\"11:41:32\",\"11:42:02\",\"11:42:32\",\"11:43:02\",\"11:43:32\",\"11:44:02\",\"11:44:32\",\"11:45:02\",\"11:45:32\",\"11:46:02\",\"11:46:32\",\"11:47:02\",\"11:47:32\",\"11:48:02\",\"11:48:32\",\"11:49:02\",\"11:49:32\",\"11:50:02\",\"11:50:32\",\"11:51:02\",\"11:51:32\",\"11:52:02\",\"11:52:32\",\"11:53:02\",\"11:53:32\",\"11:54:02\",\"11:54:32\",\"11:55:02\",\"11:55:32\",\"11:56:02\",\"11:56:32\",\"11:57:02\",\"11:57:32\",\"11:58:02\",\"11:58:32\",\"11:59:02\",\"11:59:32\",\"12:00:02\",\"12:00:32\",\"12:01:02\"],\"xaxis\":\"x\",\"y\":[19.61,19.71,19.88,19.87,19.75,19.67,19.57,19.5,19.41,19.36,19.3,19.26,19.24,19.21,19.18,19.15,19.14,19.11,19.1,19.1,19.08,19.07,19.08,19.07,19.03,19.05,19.07,19.06,19.02,19.03,19.03,19.06,19.05,19.06,19.05,19.03,19.05,19.07,19.05,19.06,19.02,19.03,19.06,19.05,19.07,19.07,19.07,19.05,19.06,19.06,19.07,19.06,19.06,19.07,19.07,19.08,19.08,19.08,19.09,19.07,19.09,19.08,19.09,19.1,19.1,19.11,19.1,19.1,19.14,19.12,19.12,19.13,19.12,19.12,19.14,19.11,19.14,19.15,19.13,19.15,19.16,19.17,19.18,19.18,19.15,19.17,19.16,19.17,19.17,19.18,19.2,19.21,19.22,19.22,19.24,19.23,19.26,19.28,19.27,19.31,19.31,19.31,19.58,20.25,20.68,20.87,20.98,21.27,21.28,21.1,20.96,20.8,20.69,20.55,20.44,20.34,20.25,20.16,20.09,20.03,19.94,19.89,19.87,20.86,21.95,22.05,21.76,21.46,21.2,20.99,20.8,20.62,20.48,20.37,20.25,20.14,20.07,19.98,19.91,19.85,19.81,19.77,19.72,19.69,19.62,19.61,19.61,19.61,19.6,19.57,19.57,19.54,19.56,19.52,19.52,19.52,19.5,19.51,19.48,19.52,19.52,19.52,19.51,19.51,19.48,19.48,19.47,19.48,19.48,19.51,19.48,19.47,19.51,19.51,19.48,19.48,19.5,19.52,19.5,19.48,19.48,19.47,19.5,19.46,19.48,19.48,19.48,19.48,19.52,19.55,19.54,19.53,19.54,19.54,19.54,19.55,19.52,19.53,19.55,19.53,19.54,19.56,19.57,19.56,19.58,19.6,19.59,19.6,19.67,19.68,19.72,19.73,19.76,19.81,19.83,19.85,19.88,19.88,19.91,19.94,19.97,19.98,20.01,20.01,20.04,20.06,20.07,20.09,20.11,20.12,20.14,20.14,20.16,20.18,20.19,20.2,20.2,20.24,20.21,20.22,20.53,21.17,25.51,32.33,34.77,35.66,36.19,36.46,36.6,36.64,36.68,36.71,36.71,36.73,36.74,36.77,36.76,36.77,36.75,36.77,36.82,36.82,36.81,36.83,36.83,36.82,36.85,36.83,36.84,36.84,36.87,36.82,36.87,36.85,36.89,36.87,36.89,36.87,36.89,36.9,36.89,36.89,36.9,36.91,36.89,36.91,36.91,36.91,36.93,36.92,36.93,36.95,36.97,36.99,36.97,36.97,36.98,36.99,37,37.01,37.04,37.01,37.03,37.02,37.03,37.04,37.05,37.07,37.07,37.05,37.05,37.07,37.07,37.07,37.1,37.1,37.08,37.1,37.11,37.1,37.11,37.12,37.14,37.12,37.15,37.15,37.16,37.16,37.16,37.17,37.18,37.19,37.19,37.19,37.2,37.2,37.19,37.19,37.23,37.21,37.26,37.23,37.22,37.25,37.25,37.28,37.29,37.3,37.28,37.29,37.31,37.3,37.31,37.3,37.31,37.31,37.31,37.3,37.31,37.29,37.29,37.29,37.28,37.28,37.31,37.28,37.29,37.31,37.3,37.28,37.31,37.3,37.29,37.31,37.3,37.31,37.29,37.29,37.29,37.3,37.28,37.29,37.29,37.29,37.3,37.28,37.28,37.28,37.25,37.28,37.28,37.28,37.27,37.25,37.26,37.25,37.25,37.25,37.27,37.23,37.25,37.26,37.25,37.25,37.25,37.23,37.25,37.23,37.22,37.21,37.21,37.25,37.23,37.21,37.25,37.22,37.25,37.2,37.23,37.21,37.23,37.21,37.2,37.21,37.2,37.22,37.21,37.21,37.19,37.18,37.17,37.17,37.17,37.16,37.15,37.15,37.15,37.14,37.15,37.15,37.15,37.15,37.15,37.16,37.15,37.15,37.16,37.14,37.14,37.13,37.15,37.14,37.14,37.16,37.12,37.14,37.14,37.15,37.16,37.16,37.15,37.17,37.17,37.17,37.16,37.15,37.17,37.14,37.15,37.14,37.13,37.15,37.2,37.22,37.25,37.23,37.25,37.23,37.23,37.26,37.25,37.27,37.23,37.23,37.26,37.25,37.23,null,37.26,null,null,null,null,null,null,null,null,null,36.64,null,null,null,null,37.18,null,37.26],\"yaxis\":\"y\",\"type\":\"scatter\"}],                        {\"template\":{\"data\":{\"histogram2dcontour\":[{\"type\":\"histogram2dcontour\",\"colorbar\":{\"outlinewidth\":0,\"ticks\":\"\"},\"colorscale\":[[0.0,\"#0d0887\"],[0.1111111111111111,\"#46039f\"],[0.2222222222222222,\"#7201a8\"],[0.3333333333333333,\"#9c179e\"],[0.4444444444444444,\"#bd3786\"],[0.5555555555555556,\"#d8576b\"],[0.6666666666666666,\"#ed7953\"],[0.7777777777777778,\"#fb9f3a\"],[0.8888888888888888,\"#fdca26\"],[1.0,\"#f0f921\"]]}],\"choropleth\":[{\"type\":\"choropleth\",\"colorbar\":{\"outlinewidth\":0,\"ticks\":\"\"}}],\"histogram2d\":[{\"type\":\"histogram2d\",\"colorbar\":{\"outlinewidth\":0,\"ticks\":\"\"},\"colorscale\":[[0.0,\"#0d0887\"],[0.1111111111111111,\"#46039f\"],[0.2222222222222222,\"#7201a8\"],[0.3333333333333333,\"#9c179e\"],[0.4444444444444444,\"#bd3786\"],[0.5555555555555556,\"#d8576b\"],[0.6666666666666666,\"#ed7953\"],[0.7777777777777778,\"#fb9f3a\"],[0.8888888888888888,\"#fdca26\"],[1.0,\"#f0f921\"]]}],\"heatmap\":[{\"type\":\"heatmap\",\"colorbar\":{\"outlinewidth\":0,\"ticks\":\"\"},\"colorscale\":[[0.0,\"#0d0887\"],[0.1111111111111111,\"#46039f\"],[0.2222222222222222,\"#7201a8\"],[0.3333333333333333,\"#9c179e\"],[0.4444444444444444,\"#bd3786\"],[0.5555555555555556,\"#d8576b\"],[0.6666666666666666,\"#ed7953\"],[0.7777777777777778,\"#fb9f3a\"],[0.8888888888888888,\"#fdca26\"],[1.0,\"#f0f921\"]]}],\"heatmapgl\":[{\"type\":\"heatmapgl\",\"colorbar\":{\"outlinewidth\":0,\"ticks\":\"\"},\"colorscale\":[[0.0,\"#0d0887\"],[0.1111111111111111,\"#46039f\"],[0.2222222222222222,\"#7201a8\"],[0.3333333333333333,\"#9c179e\"],[0.4444444444444444,\"#bd3786\"],[0.5555555555555556,\"#d8576b\"],[0.6666666666666666,\"#ed7953\"],[0.7777777777777778,\"#fb9f3a\"],[0.8888888888888888,\"#fdca26\"],[1.0,\"#f0f921\"]]}],\"contourcarpet\":[{\"type\":\"contourcarpet\",\"colorbar\":{\"outlinewidth\":0,\"ticks\":\"\"}}],\"contour\":[{\"type\":\"contour\",\"colorbar\":{\"outlinewidth\":0,\"ticks\":\"\"},\"colorscale\":[[0.0,\"#0d0887\"],[0.1111111111111111,\"#46039f\"],[0.2222222222222222,\"#7201a8\"],[0.3333333333333333,\"#9c179e\"],[0.4444444444444444,\"#bd3786\"],[0.5555555555555556,\"#d8576b\"],[0.6666666666666666,\"#ed7953\"],[0.7777777777777778,\"#fb9f3a\"],[0.8888888888888888,\"#fdca26\"],[1.0,\"#f0f921\"]]}],\"surface\":[{\"type\":\"surface\",\"colorbar\":{\"outlinewidth\":0,\"ticks\":\"\"},\"colorscale\":[[0.0,\"#0d0887\"],[0.1111111111111111,\"#46039f\"],[0.2222222222222222,\"#7201a8\"],[0.3333333333333333,\"#9c179e\"],[0.4444444444444444,\"#bd3786\"],[0.5555555555555556,\"#d8576b\"],[0.6666666666666666,\"#ed7953\"],[0.7777777777777778,\"#fb9f3a\"],[0.8888888888888888,\"#fdca26\"],[1.0,\"#f0f921\"]]}],\"mesh3d\":[{\"type\":\"mesh3d\",\"colorbar\":{\"outlinewidth\":0,\"ticks\":\"\"}}],\"scatter\":[{\"fillpattern\":{\"fillmode\":\"overlay\",\"size\":10,\"solidity\":0.2},\"type\":\"scatter\"}],\"parcoords\":[{\"type\":\"parcoords\",\"line\":{\"colorbar\":{\"outlinewidth\":0,\"ticks\":\"\"}}}],\"scatterpolargl\":[{\"type\":\"scatterpolargl\",\"marker\":{\"colorbar\":{\"outlinewidth\":0,\"ticks\":\"\"}}}],\"bar\":[{\"error_x\":{\"color\":\"#2a3f5f\"},\"error_y\":{\"color\":\"#2a3f5f\"},\"marker\":{\"line\":{\"color\":\"#E5ECF6\",\"width\":0.5},\"pattern\":{\"fillmode\":\"overlay\",\"size\":10,\"solidity\":0.2}},\"type\":\"bar\"}],\"scattergeo\":[{\"type\":\"scattergeo\",\"marker\":{\"colorbar\":{\"outlinewidth\":0,\"ticks\":\"\"}}}],\"scatterpolar\":[{\"type\":\"scatterpolar\",\"marker\":{\"colorbar\":{\"outlinewidth\":0,\"ticks\":\"\"}}}],\"histogram\":[{\"marker\":{\"pattern\":{\"fillmode\":\"overlay\",\"size\":10,\"solidity\":0.2}},\"type\":\"histogram\"}],\"scattergl\":[{\"type\":\"scattergl\",\"marker\":{\"colorbar\":{\"outlinewidth\":0,\"ticks\":\"\"}}}],\"scatter3d\":[{\"type\":\"scatter3d\",\"line\":{\"colorbar\":{\"outlinewidth\":0,\"ticks\":\"\"}},\"marker\":{\"colorbar\":{\"outlinewidth\":0,\"ticks\":\"\"}}}],\"scattermapbox\":[{\"type\":\"scattermapbox\",\"marker\":{\"colorbar\":{\"outlinewidth\":0,\"ticks\":\"\"}}}],\"scatterternary\":[{\"type\":\"scatterternary\",\"marker\":{\"colorbar\":{\"outlinewidth\":0,\"ticks\":\"\"}}}],\"scattercarpet\":[{\"type\":\"scattercarpet\",\"marker\":{\"colorbar\":{\"outlinewidth\":0,\"ticks\":\"\"}}}],\"carpet\":[{\"aaxis\":{\"endlinecolor\":\"#2a3f5f\",\"gridcolor\":\"white\",\"linecolor\":\"white\",\"minorgridcolor\":\"white\",\"startlinecolor\":\"#2a3f5f\"},\"baxis\":{\"endlinecolor\":\"#2a3f5f\",\"gridcolor\":\"white\",\"linecolor\":\"white\",\"minorgridcolor\":\"white\",\"startlinecolor\":\"#2a3f5f\"},\"type\":\"carpet\"}],\"table\":[{\"cells\":{\"fill\":{\"color\":\"#EBF0F8\"},\"line\":{\"color\":\"white\"}},\"header\":{\"fill\":{\"color\":\"#C8D4E3\"},\"line\":{\"color\":\"white\"}},\"type\":\"table\"}],\"barpolar\":[{\"marker\":{\"line\":{\"color\":\"#E5ECF6\",\"width\":0.5},\"pattern\":{\"fillmode\":\"overlay\",\"size\":10,\"solidity\":0.2}},\"type\":\"barpolar\"}],\"pie\":[{\"automargin\":true,\"type\":\"pie\"}]},\"layout\":{\"autotypenumbers\":\"strict\",\"colorway\":[\"#636efa\",\"#EF553B\",\"#00cc96\",\"#ab63fa\",\"#FFA15A\",\"#19d3f3\",\"#FF6692\",\"#B6E880\",\"#FF97FF\",\"#FECB52\"],\"font\":{\"color\":\"#2a3f5f\"},\"hovermode\":\"closest\",\"hoverlabel\":{\"align\":\"left\"},\"paper_bgcolor\":\"white\",\"plot_bgcolor\":\"#E5ECF6\",\"polar\":{\"bgcolor\":\"#E5ECF6\",\"angularaxis\":{\"gridcolor\":\"white\",\"linecolor\":\"white\",\"ticks\":\"\"},\"radialaxis\":{\"gridcolor\":\"white\",\"linecolor\":\"white\",\"ticks\":\"\"}},\"ternary\":{\"bgcolor\":\"#E5ECF6\",\"aaxis\":{\"gridcolor\":\"white\",\"linecolor\":\"white\",\"ticks\":\"\"},\"baxis\":{\"gridcolor\":\"white\",\"linecolor\":\"white\",\"ticks\":\"\"},\"caxis\":{\"gridcolor\":\"white\",\"linecolor\":\"white\",\"ticks\":\"\"}},\"coloraxis\":{\"colorbar\":{\"outlinewidth\":0,\"ticks\":\"\"}},\"colorscale\":{\"sequential\":[[0.0,\"#0d0887\"],[0.1111111111111111,\"#46039f\"],[0.2222222222222222,\"#7201a8\"],[0.3333333333333333,\"#9c179e\"],[0.4444444444444444,\"#bd3786\"],[0.5555555555555556,\"#d8576b\"],[0.6666666666666666,\"#ed7953\"],[0.7777777777777778,\"#fb9f3a\"],[0.8888888888888888,\"#fdca26\"],[1.0,\"#f0f921\"]],\"sequentialminus\":[[0.0,\"#0d0887\"],[0.1111111111111111,\"#46039f\"],[0.2222222222222222,\"#7201a8\"],[0.3333333333333333,\"#9c179e\"],[0.4444444444444444,\"#bd3786\"],[0.5555555555555556,\"#d8576b\"],[0.6666666666666666,\"#ed7953\"],[0.7777777777777778,\"#fb9f3a\"],[0.8888888888888888,\"#fdca26\"],[1.0,\"#f0f921\"]],\"diverging\":[[0,\"#8e0152\"],[0.1,\"#c51b7d\"],[0.2,\"#de77ae\"],[0.3,\"#f1b6da\"],[0.4,\"#fde0ef\"],[0.5,\"#f7f7f7\"],[0.6,\"#e6f5d0\"],[0.7,\"#b8e186\"],[0.8,\"#7fbc41\"],[0.9,\"#4d9221\"],[1,\"#276419\"]]},\"xaxis\":{\"gridcolor\":\"white\",\"linecolor\":\"white\",\"ticks\":\"\",\"title\":{\"standoff\":15},\"zerolinecolor\":\"white\",\"automargin\":true,\"zerolinewidth\":2},\"yaxis\":{\"gridcolor\":\"white\",\"linecolor\":\"white\",\"ticks\":\"\",\"title\":{\"standoff\":15},\"zerolinecolor\":\"white\",\"automargin\":true,\"zerolinewidth\":2},\"scene\":{\"xaxis\":{\"backgroundcolor\":\"#E5ECF6\",\"gridcolor\":\"white\",\"linecolor\":\"white\",\"showbackground\":true,\"ticks\":\"\",\"zerolinecolor\":\"white\",\"gridwidth\":2},\"yaxis\":{\"backgroundcolor\":\"#E5ECF6\",\"gridcolor\":\"white\",\"linecolor\":\"white\",\"showbackground\":true,\"ticks\":\"\",\"zerolinecolor\":\"white\",\"gridwidth\":2},\"zaxis\":{\"backgroundcolor\":\"#E5ECF6\",\"gridcolor\":\"white\",\"linecolor\":\"white\",\"showbackground\":true,\"ticks\":\"\",\"zerolinecolor\":\"white\",\"gridwidth\":2}},\"shapedefaults\":{\"line\":{\"color\":\"#2a3f5f\"}},\"annotationdefaults\":{\"arrowcolor\":\"#2a3f5f\",\"arrowhead\":0,\"arrowwidth\":1},\"geo\":{\"bgcolor\":\"white\",\"landcolor\":\"#E5ECF6\",\"subunitcolor\":\"white\",\"showland\":true,\"showlakes\":true,\"lakecolor\":\"white\"},\"title\":{\"x\":0.05},\"mapbox\":{\"style\":\"light\"}}},\"xaxis\":{\"anchor\":\"y\",\"domain\":[0.0,1.0],\"title\":{\"text\":\"time\"}},\"yaxis\":{\"anchor\":\"x\",\"domain\":[0.0,1.0],\"title\":{\"text\":\"temp\"}},\"legend\":{\"tracegroupgap\":0},\"margin\":{\"t\":60}},                        {\"responsive\": true}                    ).then(function(){\n                            \nvar gd = document.getElementById('97b7cb1c-adb0-4909-ae51-76cce73ee611');\nvar x = new MutationObserver(function (mutations, observer) {{\n        var display = window.getComputedStyle(gd).display;\n        if (!display || display === 'none') {{\n            console.log([gd, 'removed!']);\n            Plotly.purge(gd);\n            observer.disconnect();\n        }}\n}});\n\n// Listen for the removal of the full notebook cells\nvar notebookContainer = gd.closest('#notebook-container');\nif (notebookContainer) {{\n    x.observe(notebookContainer, {childList: true});\n}}\n\n// Listen for the clearing of the current output cell\nvar outputEl = gd.closest('.output');\nif (outputEl) {{\n    x.observe(outputEl, {childList: true});\n}}\n\n                        })                };                });            </script>        </div>"
     },
     "metadata": {},
     "output_type": "display_data"
    }
   ],
   "source": [
    "fig = px.line(pID_12_Coretemp, x=\"time\", y=\"temp\")\n",
    "fig.show()"
   ],
   "metadata": {
    "collapsed": false
   }
  },
  {
   "cell_type": "code",
   "execution_count": 41,
   "outputs": [
    {
     "data": {
      "text/plain": "count     491.00\nunique    163.00\ntop        37.25\nfreq       19.00\nName: temp, dtype: float64"
     },
     "execution_count": 41,
     "metadata": {},
     "output_type": "execute_result"
    }
   ],
   "source": [
    "pID_12_Coretemp[\"temp\"].describe()"
   ],
   "metadata": {
    "collapsed": false
   }
  },
  {
   "cell_type": "code",
   "execution_count": null,
   "outputs": [],
   "source": [],
   "metadata": {
    "collapsed": false
   }
  }
 ],
 "metadata": {
  "kernelspec": {
   "display_name": "Python 3",
   "language": "python",
   "name": "python3"
  },
  "language_info": {
   "codemirror_mode": {
    "name": "ipython",
    "version": 2
   },
   "file_extension": ".py",
   "mimetype": "text/x-python",
   "name": "python",
   "nbconvert_exporter": "python",
   "pygments_lexer": "ipython2",
   "version": "2.7.6"
  }
 },
 "nbformat": 4,
 "nbformat_minor": 0
}
