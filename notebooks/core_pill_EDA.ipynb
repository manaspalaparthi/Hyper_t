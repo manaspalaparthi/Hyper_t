{
 "cells": [
  {
   "cell_type": "code",
   "execution_count": 1,
   "id": "e28ff2b7",
   "metadata": {},
   "outputs": [],
   "source": [
    "import numpy as np\n",
    "import pandas as pd"
   ]
  },
  {
   "cell_type": "code",
   "execution_count": 2,
   "id": "5071707a",
   "metadata": {},
   "outputs": [],
   "source": [
    "excel_file = '../HYP_T_Data_Files/OneDrive_2023-01-15 (1)/All participants/All Participants Core Data.xlsx'\n",
    "all_sheets = pd.read_excel(excel_file, sheet_name=None)\n",
    "sheets = all_sheets.keys()\n",
    "\n",
    "for sheet_name in sheets:\n",
    "    sheet = pd.read_excel(excel_file, sheet_name=sheet_name)\n",
    "    sheet.to_csv(\"%s.csv\" % sheet_name, index=False)"
   ]
  },
  {
   "cell_type": "code",
   "execution_count": 6,
   "id": "4687f473",
   "metadata": {},
   "outputs": [
    {
     "name": "stdout",
     "output_type": "stream",
     "text": [
      "Collecting package metadata (current_repodata.json): ...working... done\n",
      "Solving environment: ...working... done\n",
      "\n",
      "## Package Plan ##\n",
      "\n",
      "  environment location: D:\\projects\\hyper_t\\env3.8\n",
      "\n",
      "  added / updated specs:\n",
      "    - openpyxl\n",
      "\n",
      "\n",
      "The following packages will be downloaded:\n",
      "\n",
      "    package                    |            build\n",
      "    ---------------------------|-----------------\n",
      "    et_xmlfile-1.1.0           |   py38haa95532_0          10 KB\n",
      "    openpyxl-3.0.10            |   py38h2bbff1b_0         469 KB\n",
      "    ------------------------------------------------------------\n",
      "                                           Total:         479 KB\n",
      "\n",
      "The following NEW packages will be INSTALLED:\n",
      "\n",
      "  et_xmlfile         pkgs/main/win-64::et_xmlfile-1.1.0-py38haa95532_0\n",
      "  openpyxl           pkgs/main/win-64::openpyxl-3.0.10-py38h2bbff1b_0\n",
      "\n",
      "\n",
      "\n",
      "Downloading and Extracting Packages\n",
      "\n",
      "et_xmlfile-1.1.0     | 10 KB     |            |   0% \n",
      "et_xmlfile-1.1.0     | 10 KB     | ########## | 100% \n",
      "et_xmlfile-1.1.0     | 10 KB     | ########## | 100% \n",
      "\n",
      "openpyxl-3.0.10      | 469 KB    |            |   0% \n",
      "openpyxl-3.0.10      | 469 KB    | #########2 |  92% \n",
      "openpyxl-3.0.10      | 469 KB    | ########## | 100% \n",
      "Preparing transaction: ...working... done\n",
      "Verifying transaction: ...working... done\n",
      "Executing transaction: ...working... done\n"
     ]
    },
    {
     "name": "stderr",
     "output_type": "stream",
     "text": [
      "\n",
      "\n",
      "==> WARNING: A newer version of conda exists. <==\n",
      "  current version: 4.9.2\n",
      "  latest version: 23.1.0\n",
      "\n",
      "Please update conda by running\n",
      "\n",
      "    $ conda update -n base -c defaults conda\n",
      "\n",
      "\n",
      "WARNING conda.gateways.disk.delete:unlink_or_rename_to_trash(139): Could not remove or rename C:\\Users\\manup\\anaconda3\\pkgs\\pandoc-2.19.2-h57928b3_1\\bin\\pandoc.exe.  Please remove this file manually (you may need to reboot to free file handles)\n",
      "WARNING conda.gateways.disk.delete:unlink_or_rename_to_trash(139): Could not remove or rename C:\\Users\\manup\\anaconda3\\pkgs\\pandoc-2.19.2-h57928b3_1.tar.bz2.  Please remove this file manually (you may need to reboot to free file handles)\n",
      "WARNING conda.gateways.disk.delete:unlink_or_rename_to_trash(139): Could not remove or rename C:\\Users\\manup\\anaconda3\\pkgs\\pandoc-2.19.2-h57928b3_1\\bin\\pandoc.exe.  Please remove this file manually (you may need to reboot to free file handles)\n"
     ]
    }
   ],
   "source": []
  },
  {
   "cell_type": "code",
   "execution_count": null,
   "id": "bb833846",
   "metadata": {},
   "outputs": [],
   "source": []
  }
 ],
 "metadata": {
  "kernelspec": {
   "display_name": "Python 3 (ipykernel)",
   "language": "python",
   "name": "python3"
  },
  "language_info": {
   "codemirror_mode": {
    "name": "ipython",
    "version": 3
   },
   "file_extension": ".py",
   "mimetype": "text/x-python",
   "name": "python",
   "nbconvert_exporter": "python",
   "pygments_lexer": "ipython3",
   "version": "3.8.16"
  }
 },
 "nbformat": 4,
 "nbformat_minor": 5
}
